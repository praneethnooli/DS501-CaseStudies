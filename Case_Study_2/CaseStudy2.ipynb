{
 "cells": [
  {
   "cell_type": "markdown",
   "metadata": {},
   "source": [
    "# Case Study 2 : Analyzing data from MovieLens\n",
    "\n",
    "** Due Date: October 27, 2016 5:59PM**\n",
    "\n",
    "*------------"
   ]
  },
  {
   "cell_type": "markdown",
   "metadata": {},
   "source": [
    "## The MovieLens data sets\n",
    "\n",
    "<img src=\"https://pbs.twimg.com/profile_images/378800000380161537/b6fa868dce43807d4e67462587d0b0d2_400x400.png\">\n",
    "\n",
    "http://grouplens.org/datasets/movielens/\n",
    "\n"
   ]
  },
  {
   "cell_type": "code",
   "execution_count": 1,
   "metadata": {
    "collapsed": false
   },
   "outputs": [],
   "source": [
    "from IPython.lib.display import YouTubeVideo"
   ]
  },
  {
   "cell_type": "code",
   "execution_count": 1,
   "metadata": {
    "collapsed": false
   },
   "outputs": [
    {
     "ename": "NameError",
     "evalue": "name 'YouTubeVideo' is not defined",
     "output_type": "error",
     "traceback": [
      "\u001b[1;31m---------------------------------------------------------------------------\u001b[0m",
      "\u001b[1;31mNameError\u001b[0m                                 Traceback (most recent call last)",
      "\u001b[1;32m<ipython-input-1-70f9efb7b246>\u001b[0m in \u001b[0;36m<module>\u001b[1;34m()\u001b[0m\n\u001b[1;32m----> 1\u001b[1;33m \u001b[0mYouTubeVideo\u001b[0m\u001b[1;33m(\u001b[0m\u001b[1;34m'dAjRNi6bhSE'\u001b[0m\u001b[1;33m)\u001b[0m\u001b[1;33m\u001b[0m\u001b[0m\n\u001b[0m",
      "\u001b[1;31mNameError\u001b[0m: name 'YouTubeVideo' is not defined"
     ]
    }
   ],
   "source": [
    "YouTubeVideo('dAjRNi6bhSE')"
   ]
  },
  {
   "cell_type": "markdown",
   "metadata": {},
   "source": [
    "**TEAM Members:** Please EDIT this cell and add the names of all the team members in your team\n",
    "\n",
    "    member 1\n",
    "    \n",
    "    member 2\n",
    "    \n",
    "    ..."
   ]
  },
  {
   "cell_type": "markdown",
   "metadata": {},
   "source": [
    "**Desired outcome of the case study.**\n",
    "* In this case study we will look at the MovieLens 1M Data Set.\n",
    "    * It contains data about users and how the rate movies.\n",
    "* The idea is to *analyze* the data set, make *conjectures*, support or refute those conjectures with *data*, and *tell a story* about the data!\n",
    "    \n",
    "**Required Readings:** \n",
    "* Chapter 2 (only the section on the MovieLens 1M Data Set), Chapter 5, Chapter 6,\n",
    "and Chapter 8 of the book [Python for Data Analysis](http://shop.oreilly.com/product/0636920023784.do)  (available from the WPI library as an e-book).\n",
    "* If you want your code to be really compact then you might want to also look into the pivot_table method of Panda's DataFrame, though there are many other ways to complete the case study!\n",
    "\n",
    "**Case study assumptions:**\n",
    "* You have access to a Python installation\n",
    "\n",
    "**Required Python libraries:**\n",
    "* Pandas (pandas.pydata.org)\n",
    "* Matplotlib (matplotlib.org)\n",
    "* If you need help installing them then you can refer to the Anaconda documentation of Chapter 1 of Python for Data Analysis book above \n",
    "\n",
    "** NOTE **\n",
    "* Please don't forget to save the notebook frequently when working in IPython Notebook, otherwise the changes you made can be lost.\n",
    "\n",
    "*----------------------"
   ]
  },
  {
   "cell_type": "markdown",
   "metadata": {},
   "source": [
    "# Problem 1 (20 points total): \n",
    "\n",
    "## (10 points) Importing the MovieLens data set and merging it into a single Pandas DataFrame"
   ]
  },
  {
   "cell_type": "markdown",
   "metadata": {},
   "source": [
    "* Download the 1 million ratings data set from http://grouplens.org/datasets/movielens/ (though if you are feeling adventerous you can download the 10 million ratings file instead)\n",
    "* Merge all of the data into a single Pandas DataFrame\n",
    "* Store the data into an HDF5 file.\n",
    "\n",
    "## (10 points) Report some basic details of the data you collected.  For example:\n",
    "\n",
    "*  How many movies have an average rating over 4.5 overall?\n",
    "*  How many movies have an average rating over 4.5 among men?  How about women?\n",
    "*  How many movies have an *median* rating over 4.5 among men over age 30?  How about women over age 30?\n",
    "*  What are the ten most popular movies?\n",
    "    * Choose what you consider to be a reasonable defintion of \"popular\".\n",
    "    * Be perpared to defend this choice.\n",
    "*  Make some conjectures about how easy various groups are to please? Support your answers with data!  \n",
    "    *  For example, one might conjecture that people between the ages of 1 and 10 are the easiest to please since they are all young children.  This conjecture may or may not be true, but how would you support or disprove either conclusion with with data?\n",
    "    *  Be sure to come up with your own conjectures and support them with data!\n"
   ]
  },
  {
   "cell_type": "code",
   "execution_count": 326,
   "metadata": {
    "collapsed": false
   },
   "outputs": [
    {
     "data": {
      "text/html": [
       "\n",
       "           <script>\n",
       "               \n",
       "                function vct_load_lib(url, callback){\n",
       "                      if(typeof d3 !== 'undefined' &&\n",
       "                         url === 'http://d3js.org/d3.v3.min.js'){\n",
       "                        callback()\n",
       "                      }\n",
       "                      var s = document.createElement('script');\n",
       "                      s.src = url;\n",
       "                      s.async = true;\n",
       "                      s.onreadystatechange = s.onload = callback;\n",
       "                      s.onerror = function(){\n",
       "                        console.warn(\"failed to load library \" + url);\n",
       "                        };\n",
       "                      document.getElementsByTagName(\"head\")[0].appendChild(s);\n",
       "                };\n",
       "                var vincent_event = new CustomEvent(\n",
       "                  \"vincent_libs_loaded\",\n",
       "                  {bubbles: true, cancelable: true}\n",
       "                );\n",
       "                \n",
       "               function load_all_libs(){\n",
       "                  console.log('Loading Vincent libs...')\n",
       "                  vct_load_lib('http://d3js.org/d3.v3.min.js', function(){\n",
       "                  vct_load_lib('http://d3js.org/d3.geo.projection.v0.min.js', function(){\n",
       "                  vct_load_lib('http://wrobstory.github.io/d3-cloud/d3.layout.cloud.js', function(){\n",
       "                  vct_load_lib('http://wrobstory.github.io/vega/vega.v1.3.3.js', function(){\n",
       "                  window.dispatchEvent(vincent_event);\n",
       "                  });\n",
       "                  });\n",
       "                  });\n",
       "                  });\n",
       "               };\n",
       "               if(typeof define === \"function\" && define.amd){\n",
       "                    if (window['d3'] === undefined ||\n",
       "                        window['topojson'] === undefined){\n",
       "                        require.config(\n",
       "                            {paths: {\n",
       "                              d3: 'http://d3js.org/d3.v3.min',\n",
       "                              topojson: 'http://d3js.org/topojson.v1.min'\n",
       "                              }\n",
       "                            }\n",
       "                          );\n",
       "                        require([\"d3\"], function(d3){\n",
       "                            console.log('Loading Vincent from require.js...')\n",
       "                            window.d3 = d3;\n",
       "                            require([\"topojson\"], function(topojson){\n",
       "                                window.topojson = topojson;\n",
       "                                load_all_libs();\n",
       "                            });\n",
       "                        });\n",
       "                    } else {\n",
       "                        load_all_libs();\n",
       "                    };\n",
       "               }else{\n",
       "                    console.log('Require.js not found, loading manually...')\n",
       "                    load_all_libs();\n",
       "               };\n",
       "\n",
       "           </script>"
      ],
      "text/plain": [
       "<IPython.core.display.HTML object>"
      ]
     },
     "metadata": {},
     "output_type": "display_data"
    },
    {
     "data": {
      "text/html": [
       "<div>\n",
       "<table border=\"1\" class=\"dataframe\">\n",
       "  <thead>\n",
       "    <tr style=\"text-align: right;\">\n",
       "      <th></th>\n",
       "      <th>user_id</th>\n",
       "      <th>movie_id</th>\n",
       "      <th>rating</th>\n",
       "      <th>timestamp</th>\n",
       "      <th>gender</th>\n",
       "      <th>age</th>\n",
       "      <th>occupation</th>\n",
       "      <th>zip</th>\n",
       "      <th>title</th>\n",
       "      <th>genres</th>\n",
       "    </tr>\n",
       "  </thead>\n",
       "  <tbody>\n",
       "    <tr>\n",
       "      <th>0</th>\n",
       "      <td>1</td>\n",
       "      <td>1193</td>\n",
       "      <td>5</td>\n",
       "      <td>978300760</td>\n",
       "      <td>F</td>\n",
       "      <td>1</td>\n",
       "      <td>10</td>\n",
       "      <td>48067</td>\n",
       "      <td>One Flew Over the Cuckoo's Nest (1975)</td>\n",
       "      <td>Drama</td>\n",
       "    </tr>\n",
       "    <tr>\n",
       "      <th>1</th>\n",
       "      <td>2</td>\n",
       "      <td>1193</td>\n",
       "      <td>5</td>\n",
       "      <td>978298413</td>\n",
       "      <td>M</td>\n",
       "      <td>56</td>\n",
       "      <td>16</td>\n",
       "      <td>70072</td>\n",
       "      <td>One Flew Over the Cuckoo's Nest (1975)</td>\n",
       "      <td>Drama</td>\n",
       "    </tr>\n",
       "    <tr>\n",
       "      <th>2</th>\n",
       "      <td>12</td>\n",
       "      <td>1193</td>\n",
       "      <td>4</td>\n",
       "      <td>978220179</td>\n",
       "      <td>M</td>\n",
       "      <td>25</td>\n",
       "      <td>12</td>\n",
       "      <td>32793</td>\n",
       "      <td>One Flew Over the Cuckoo's Nest (1975)</td>\n",
       "      <td>Drama</td>\n",
       "    </tr>\n",
       "    <tr>\n",
       "      <th>3</th>\n",
       "      <td>15</td>\n",
       "      <td>1193</td>\n",
       "      <td>4</td>\n",
       "      <td>978199279</td>\n",
       "      <td>M</td>\n",
       "      <td>25</td>\n",
       "      <td>7</td>\n",
       "      <td>22903</td>\n",
       "      <td>One Flew Over the Cuckoo's Nest (1975)</td>\n",
       "      <td>Drama</td>\n",
       "    </tr>\n",
       "    <tr>\n",
       "      <th>4</th>\n",
       "      <td>17</td>\n",
       "      <td>1193</td>\n",
       "      <td>5</td>\n",
       "      <td>978158471</td>\n",
       "      <td>M</td>\n",
       "      <td>50</td>\n",
       "      <td>1</td>\n",
       "      <td>95350</td>\n",
       "      <td>One Flew Over the Cuckoo's Nest (1975)</td>\n",
       "      <td>Drama</td>\n",
       "    </tr>\n",
       "  </tbody>\n",
       "</table>\n",
       "</div>"
      ],
      "text/plain": [
       "   user_id  movie_id  rating  timestamp gender  age  occupation    zip  \\\n",
       "0        1      1193       5  978300760      F    1          10  48067   \n",
       "1        2      1193       5  978298413      M   56          16  70072   \n",
       "2       12      1193       4  978220179      M   25          12  32793   \n",
       "3       15      1193       4  978199279      M   25           7  22903   \n",
       "4       17      1193       5  978158471      M   50           1  95350   \n",
       "\n",
       "                                    title genres  \n",
       "0  One Flew Over the Cuckoo's Nest (1975)  Drama  \n",
       "1  One Flew Over the Cuckoo's Nest (1975)  Drama  \n",
       "2  One Flew Over the Cuckoo's Nest (1975)  Drama  \n",
       "3  One Flew Over the Cuckoo's Nest (1975)  Drama  \n",
       "4  One Flew Over the Cuckoo's Nest (1975)  Drama  "
      ]
     },
     "execution_count": 326,
     "metadata": {},
     "output_type": "execute_result"
    }
   ],
   "source": [
    "import pandas as pd\n",
    "import numpy as np\n",
    "%matplotlib inline\n",
    "import h5py\n",
    "import vincent\n",
    "vincent.core.initialize_notebook()\n",
    "pd.set_option(\"display.max_columns\",None)\n",
    "#-------------------------------\n",
    "# Your code goes here.\n",
    "# Add as many cells as you need\n",
    "#-------------------------------\n",
    "\n",
    "unames = ['user_id', 'gender', 'age', 'occupation', 'zip']\n",
    "users = pd.read_table('C:/Users/Praneeth/Downloads/ml-1m/users.dat', sep='::',engine='python',header=None,names=unames)\n",
    "\n",
    "rnames = ['user_id', 'movie_id', 'rating', 'timestamp']\n",
    "ratings = pd.read_table('C:/Users/Praneeth/Downloads/ml-1m/ratings.dat', sep='::',engine='python',header=None,names=rnames)\n",
    "\n",
    "mnames = ['movie_id', 'title', 'genres']\n",
    "movies = pd.read_table('C:/Users/Praneeth/Downloads/ml-1m/movies.dat', sep='::',engine='python',header=None,names=mnames)\n",
    "\n",
    "data = pd.merge(pd.merge(ratings, users), movies)\n",
    "data.head()\n"
   ]
  },
  {
   "cell_type": "code",
   "execution_count": 175,
   "metadata": {
    "collapsed": false
   },
   "outputs": [],
   "source": [
    "#Store the data into an HDF5 file\n",
    "data_hdf = pd.HDFStore('data.h5')\n",
    "data_hdf['data1'] = data\n",
    "data_hdf.close()"
   ]
  },
  {
   "cell_type": "code",
   "execution_count": 181,
   "metadata": {
    "collapsed": false
   },
   "outputs": [
    {
     "name": "stdout",
     "output_type": "stream",
     "text": [
      "no. of movies have an average rating over 4.5 = 21\n"
     ]
    },
    {
     "data": {
      "text/html": [
       "<div>\n",
       "<table border=\"1\" class=\"dataframe\">\n",
       "  <thead>\n",
       "    <tr>\n",
       "      <th></th>\n",
       "      <th>mean</th>\n",
       "    </tr>\n",
       "    <tr>\n",
       "      <th></th>\n",
       "      <th>rating</th>\n",
       "    </tr>\n",
       "    <tr>\n",
       "      <th>title</th>\n",
       "      <th></th>\n",
       "    </tr>\n",
       "  </thead>\n",
       "  <tbody>\n",
       "    <tr>\n",
       "      <th>Apple, The (Sib) (1998)</th>\n",
       "      <td>4.666667</td>\n",
       "    </tr>\n",
       "    <tr>\n",
       "      <th>Baby, The (1973)</th>\n",
       "      <td>5.000000</td>\n",
       "    </tr>\n",
       "    <tr>\n",
       "      <th>Bittersweet Motel (2000)</th>\n",
       "      <td>5.000000</td>\n",
       "    </tr>\n",
       "    <tr>\n",
       "      <th>Close Shave, A (1995)</th>\n",
       "      <td>4.520548</td>\n",
       "    </tr>\n",
       "    <tr>\n",
       "      <th>Follow the Bitch (1998)</th>\n",
       "      <td>5.000000</td>\n",
       "    </tr>\n",
       "  </tbody>\n",
       "</table>\n",
       "</div>"
      ],
      "text/plain": [
       "                              mean\n",
       "                            rating\n",
       "title                             \n",
       "Apple, The (Sib) (1998)   4.666667\n",
       "Baby, The (1973)          5.000000\n",
       "Bittersweet Motel (2000)  5.000000\n",
       "Close Shave, A (1995)     4.520548\n",
       "Follow the Bitch (1998)   5.000000"
      ]
     },
     "execution_count": 181,
     "metadata": {},
     "output_type": "execute_result"
    }
   ],
   "source": [
    "x = pd.pivot_table(data,index=[\"title\"],values=[\"rating\"],aggfunc=[np.mean])\n",
    "x = x[x.values >4.5]\n",
    "print(\"no. of movies have an average rating over 4.5 =\",len(x.index))\n",
    "x.head()"
   ]
  },
  {
   "cell_type": "code",
   "execution_count": 185,
   "metadata": {
    "collapsed": false
   },
   "outputs": [
    {
     "name": "stdout",
     "output_type": "stream",
     "text": [
      "Total movies with an average rating of over 4.5 among women:\n",
      "51\n",
      "\n",
      "\n",
      "Examples (average ratings):\n"
     ]
    },
    {
     "data": {
      "text/html": [
       "<div>\n",
       "<table border=\"1\" class=\"dataframe\">\n",
       "  <thead>\n",
       "    <tr style=\"text-align: right;\">\n",
       "      <th>gender</th>\n",
       "      <th>F</th>\n",
       "      <th>M</th>\n",
       "    </tr>\n",
       "    <tr>\n",
       "      <th>title</th>\n",
       "      <th></th>\n",
       "      <th></th>\n",
       "    </tr>\n",
       "  </thead>\n",
       "  <tbody>\n",
       "    <tr>\n",
       "      <th>24 7: Twenty Four Seven (1997)</th>\n",
       "      <td>5.000000</td>\n",
       "      <td>3.750000</td>\n",
       "    </tr>\n",
       "    <tr>\n",
       "      <th>Among Giants (1998)</th>\n",
       "      <td>4.666667</td>\n",
       "      <td>3.333333</td>\n",
       "    </tr>\n",
       "    <tr>\n",
       "      <th>Aparajito (1956)</th>\n",
       "      <td>4.666667</td>\n",
       "      <td>3.857143</td>\n",
       "    </tr>\n",
       "    <tr>\n",
       "      <th>Apple, The (Sib) (1998)</th>\n",
       "      <td>4.750000</td>\n",
       "      <td>4.600000</td>\n",
       "    </tr>\n",
       "    <tr>\n",
       "      <th>Ayn Rand: A Sense of Life (1997)</th>\n",
       "      <td>5.000000</td>\n",
       "      <td>4.000000</td>\n",
       "    </tr>\n",
       "  </tbody>\n",
       "</table>\n",
       "</div>"
      ],
      "text/plain": [
       "gender                                   F         M\n",
       "title                                               \n",
       "24 7: Twenty Four Seven (1997)    5.000000  3.750000\n",
       "Among Giants (1998)               4.666667  3.333333\n",
       "Aparajito (1956)                  4.666667  3.857143\n",
       "Apple, The (Sib) (1998)           4.750000  4.600000\n",
       "Ayn Rand: A Sense of Life (1997)  5.000000  4.000000"
      ]
     },
     "execution_count": 185,
     "metadata": {},
     "output_type": "execute_result"
    }
   ],
   "source": [
    "mean_ratings = data.pivot_table('rating',index = 'title',columns = 'gender',aggfunc = 'mean')\n",
    "\n",
    "#Determine those title ranked high among females.\n",
    "top_female_titles = mean_ratings.index[mean_ratings['F'] > 4.5]\n",
    "\n",
    "# Extract those titles\n",
    "top_female_movies = mean_ratings.ix[top_female_titles]\n",
    "print ('Total movies with an average rating of over 4.5 among women:')\n",
    "print (len(top_female_movies))\n",
    "print (\"\\n\")\n",
    "print ('Examples (average ratings):')\n",
    "top_female_movies[:5]\n"
   ]
  },
  {
   "cell_type": "code",
   "execution_count": 188,
   "metadata": {
    "collapsed": false
   },
   "outputs": [
    {
     "name": "stdout",
     "output_type": "stream",
     "text": [
      "Total movies with an average rating of over 4.5 among men:\n",
      "23\n",
      "\n",
      "\n",
      "Examples (average ratings):\n"
     ]
    },
    {
     "data": {
      "text/html": [
       "<div>\n",
       "<table border=\"1\" class=\"dataframe\">\n",
       "  <thead>\n",
       "    <tr style=\"text-align: right;\">\n",
       "      <th>gender</th>\n",
       "      <th>F</th>\n",
       "      <th>M</th>\n",
       "    </tr>\n",
       "    <tr>\n",
       "      <th>title</th>\n",
       "      <th></th>\n",
       "      <th></th>\n",
       "    </tr>\n",
       "  </thead>\n",
       "  <tbody>\n",
       "    <tr>\n",
       "      <th>Angela (1995)</th>\n",
       "      <td>3.00</td>\n",
       "      <td>5.0</td>\n",
       "    </tr>\n",
       "    <tr>\n",
       "      <th>Apple, The (Sib) (1998)</th>\n",
       "      <td>4.75</td>\n",
       "      <td>4.6</td>\n",
       "    </tr>\n",
       "    <tr>\n",
       "      <th>Baby, The (1973)</th>\n",
       "      <td>NaN</td>\n",
       "      <td>5.0</td>\n",
       "    </tr>\n",
       "    <tr>\n",
       "      <th>Bells, The (1926)</th>\n",
       "      <td>4.00</td>\n",
       "      <td>5.0</td>\n",
       "    </tr>\n",
       "    <tr>\n",
       "      <th>Dangerous Game (1993)</th>\n",
       "      <td>4.00</td>\n",
       "      <td>5.0</td>\n",
       "    </tr>\n",
       "  </tbody>\n",
       "</table>\n",
       "</div>"
      ],
      "text/plain": [
       "gender                      F    M\n",
       "title                             \n",
       "Angela (1995)            3.00  5.0\n",
       "Apple, The (Sib) (1998)  4.75  4.6\n",
       "Baby, The (1973)          NaN  5.0\n",
       "Bells, The (1926)        4.00  5.0\n",
       "Dangerous Game (1993)    4.00  5.0"
      ]
     },
     "execution_count": 188,
     "metadata": {},
     "output_type": "execute_result"
    }
   ],
   "source": [
    "mean_ratings = data.pivot_table('rating',index = 'title',columns = 'gender',aggfunc = 'mean')\n",
    "\n",
    "# Determine which titles had high average ratings among men\n",
    "top_male_titles = mean_ratings.index[mean_ratings['M'] > 4.5]\n",
    "\n",
    "# Extract those titles\n",
    "top_male_movies = mean_ratings.ix[top_male_titles]\n",
    "print ('Total movies with an average rating of over 4.5 among men:') \n",
    "print (len(top_male_movies))\n",
    "print (\"\\n\")\n",
    "print ('Examples (average ratings):')\n",
    "top_male_movies[:5]"
   ]
  },
  {
   "cell_type": "code",
   "execution_count": 189,
   "metadata": {
    "collapsed": true
   },
   "outputs": [],
   "source": [
    "# Restrict data to those with raters aged over 30\n",
    "data_over30 = data.ix[data['age']>30]\n",
    "\n",
    "# Use a pivot table to compute the median ratings by title on this restricted data\n",
    "median_ratings = data_over30.pivot_table('rating',index = 'title',columns = ['gender'],aggfunc = 'median')"
   ]
  },
  {
   "cell_type": "code",
   "execution_count": 192,
   "metadata": {
    "collapsed": false
   },
   "outputs": [
    {
     "name": "stdout",
     "output_type": "stream",
     "text": [
      "Total movies with an median rating of over 4.5 among men over 30:\n",
      "86\n",
      "\n",
      "\n",
      "Examples, median scores among people over 30:\n"
     ]
    },
    {
     "data": {
      "text/html": [
       "<div>\n",
       "<table border=\"1\" class=\"dataframe\">\n",
       "  <thead>\n",
       "    <tr style=\"text-align: right;\">\n",
       "      <th>gender</th>\n",
       "      <th>F</th>\n",
       "      <th>M</th>\n",
       "    </tr>\n",
       "    <tr>\n",
       "      <th>title</th>\n",
       "      <th></th>\n",
       "      <th></th>\n",
       "    </tr>\n",
       "  </thead>\n",
       "  <tbody>\n",
       "    <tr>\n",
       "      <th>42 Up (1998)</th>\n",
       "      <td>4.0</td>\n",
       "      <td>5.0</td>\n",
       "    </tr>\n",
       "    <tr>\n",
       "      <th>All Quiet on the Western Front (1930)</th>\n",
       "      <td>4.0</td>\n",
       "      <td>5.0</td>\n",
       "    </tr>\n",
       "    <tr>\n",
       "      <th>American Beauty (1999)</th>\n",
       "      <td>4.0</td>\n",
       "      <td>5.0</td>\n",
       "    </tr>\n",
       "    <tr>\n",
       "      <th>Among Giants (1998)</th>\n",
       "      <td>5.0</td>\n",
       "      <td>5.0</td>\n",
       "    </tr>\n",
       "    <tr>\n",
       "      <th>Angela (1995)</th>\n",
       "      <td>3.0</td>\n",
       "      <td>5.0</td>\n",
       "    </tr>\n",
       "  </tbody>\n",
       "</table>\n",
       "</div>"
      ],
      "text/plain": [
       "gender                                   F    M\n",
       "title                                          \n",
       "42 Up (1998)                           4.0  5.0\n",
       "All Quiet on the Western Front (1930)  4.0  5.0\n",
       "American Beauty (1999)                 4.0  5.0\n",
       "Among Giants (1998)                    5.0  5.0\n",
       "Angela (1995)                          3.0  5.0"
      ]
     },
     "execution_count": 192,
     "metadata": {},
     "output_type": "execute_result"
    }
   ],
   "source": [
    "# Determine which movies had a high median among men and extract those titles\n",
    "top_male_median_titles = median_ratings.index[median_ratings['M'] > 4.5]\n",
    "top_male_median_movies = median_ratings.ix[top_male_median_titles]\n",
    "\n",
    "print ('Total movies with an median rating of over 4.5 among men over 30:') \n",
    "print (len(top_male_median_movies))\n",
    "print (\"\\n\")\n",
    "print ('Examples, median scores among people over 30:')\n",
    "top_male_median_movies[:5]"
   ]
  },
  {
   "cell_type": "code",
   "execution_count": 195,
   "metadata": {
    "collapsed": false
   },
   "outputs": [
    {
     "name": "stdout",
     "output_type": "stream",
     "text": [
      "Total movies with an median rating of over 4.5 among female over 30:\n",
      "149\n",
      "\n",
      "\n",
      "Examples, median scores among people over 30:\n"
     ]
    },
    {
     "data": {
      "text/html": [
       "<div>\n",
       "<table border=\"1\" class=\"dataframe\">\n",
       "  <thead>\n",
       "    <tr style=\"text-align: right;\">\n",
       "      <th>gender</th>\n",
       "      <th>F</th>\n",
       "      <th>M</th>\n",
       "    </tr>\n",
       "    <tr>\n",
       "      <th>title</th>\n",
       "      <th></th>\n",
       "      <th></th>\n",
       "    </tr>\n",
       "  </thead>\n",
       "  <tbody>\n",
       "    <tr>\n",
       "      <th>24 7: Twenty Four Seven (1997)</th>\n",
       "      <td>5.0</td>\n",
       "      <td>3.0</td>\n",
       "    </tr>\n",
       "    <tr>\n",
       "      <th>400 Blows, The (Les Quatre cents coups) (1959)</th>\n",
       "      <td>5.0</td>\n",
       "      <td>4.0</td>\n",
       "    </tr>\n",
       "    <tr>\n",
       "      <th>Across the Sea of Time (1995)</th>\n",
       "      <td>5.0</td>\n",
       "      <td>NaN</td>\n",
       "    </tr>\n",
       "    <tr>\n",
       "      <th>African Queen, The (1951)</th>\n",
       "      <td>5.0</td>\n",
       "      <td>4.0</td>\n",
       "    </tr>\n",
       "    <tr>\n",
       "      <th>After Life (1998)</th>\n",
       "      <td>5.0</td>\n",
       "      <td>4.0</td>\n",
       "    </tr>\n",
       "  </tbody>\n",
       "</table>\n",
       "</div>"
      ],
      "text/plain": [
       "gender                                            F    M\n",
       "title                                                   \n",
       "24 7: Twenty Four Seven (1997)                  5.0  3.0\n",
       "400 Blows, The (Les Quatre cents coups) (1959)  5.0  4.0\n",
       "Across the Sea of Time (1995)                   5.0  NaN\n",
       "African Queen, The (1951)                       5.0  4.0\n",
       "After Life (1998)                               5.0  4.0"
      ]
     },
     "execution_count": 195,
     "metadata": {},
     "output_type": "execute_result"
    }
   ],
   "source": [
    "# Determine which movies had a high median among men and extract those titles\n",
    "top_female_median_titles = median_ratings.index[median_ratings['F'] > 4.5]\n",
    "top_female_median_movies = median_ratings.ix[top_female_median_titles]\n",
    "\n",
    "print ('Total movies with an median rating of over 4.5 among female over 30:') \n",
    "print (len(top_female_median_movies))\n",
    "print (\"\\n\")\n",
    "print ('Examples, median scores among people over 30:')\n",
    "top_female_median_movies[:5]"
   ]
  },
  {
   "cell_type": "code",
   "execution_count": 198,
   "metadata": {
    "collapsed": false
   },
   "outputs": [
    {
     "data": {
      "text/html": [
       "<div>\n",
       "<table border=\"1\" class=\"dataframe\">\n",
       "  <thead>\n",
       "    <tr style=\"text-align: right;\">\n",
       "      <th></th>\n",
       "      <th>len</th>\n",
       "      <th>mean</th>\n",
       "    </tr>\n",
       "    <tr>\n",
       "      <th>title</th>\n",
       "      <th></th>\n",
       "      <th></th>\n",
       "    </tr>\n",
       "  </thead>\n",
       "  <tbody>\n",
       "    <tr>\n",
       "      <th>$1,000,000 Duck (1971)</th>\n",
       "      <td>37</td>\n",
       "      <td>3.027027</td>\n",
       "    </tr>\n",
       "    <tr>\n",
       "      <th>'Night Mother (1986)</th>\n",
       "      <td>70</td>\n",
       "      <td>3.371429</td>\n",
       "    </tr>\n",
       "    <tr>\n",
       "      <th>'Til There Was You (1997)</th>\n",
       "      <td>52</td>\n",
       "      <td>2.692308</td>\n",
       "    </tr>\n",
       "    <tr>\n",
       "      <th>'burbs, The (1989)</th>\n",
       "      <td>303</td>\n",
       "      <td>2.910891</td>\n",
       "    </tr>\n",
       "    <tr>\n",
       "      <th>...And Justice for All (1979)</th>\n",
       "      <td>199</td>\n",
       "      <td>3.713568</td>\n",
       "    </tr>\n",
       "  </tbody>\n",
       "</table>\n",
       "</div>"
      ],
      "text/plain": [
       "                               len      mean\n",
       "title                                       \n",
       "$1,000,000 Duck (1971)          37  3.027027\n",
       "'Night Mother (1986)            70  3.371429\n",
       "'Til There Was You (1997)       52  2.692308\n",
       "'burbs, The (1989)             303  2.910891\n",
       "...And Justice for All (1979)  199  3.713568"
      ]
     },
     "execution_count": 198,
     "metadata": {},
     "output_type": "execute_result"
    }
   ],
   "source": [
    "\"\"\"We propose the following definition of a \"Popular\" movie:\n",
    "Above-average total number of ratings\n",
    "Above-average rating among women (i.e. the movie's average rating among women is above the average of ALL ratings given by women)\n",
    "Above-average rating among men ((i.e. the movie's average rating among men is above the average of ALL ratings given by men)\"\"\"\n",
    "# Determine the overall total ratings and mean ratings per title\n",
    "popularity_test = data.pivot_table('rating',index = 'title', aggfunc = [len, np.mean])\n",
    "\n",
    "# Determine the mean ratings per title by gender\n",
    "gender_popularity_test = data.pivot_table('rating',index = 'title', columns = 'gender', aggfunc = np.mean)\n",
    "\n",
    "popularity_test[:5]"
   ]
  },
  {
   "cell_type": "code",
   "execution_count": 199,
   "metadata": {
    "collapsed": false
   },
   "outputs": [
    {
     "data": {
      "text/html": [
       "<div>\n",
       "<table border=\"1\" class=\"dataframe\">\n",
       "  <thead>\n",
       "    <tr style=\"text-align: right;\">\n",
       "      <th>gender</th>\n",
       "      <th>F</th>\n",
       "      <th>M</th>\n",
       "    </tr>\n",
       "    <tr>\n",
       "      <th>title</th>\n",
       "      <th></th>\n",
       "      <th></th>\n",
       "    </tr>\n",
       "  </thead>\n",
       "  <tbody>\n",
       "    <tr>\n",
       "      <th>$1,000,000 Duck (1971)</th>\n",
       "      <td>3.375000</td>\n",
       "      <td>2.761905</td>\n",
       "    </tr>\n",
       "    <tr>\n",
       "      <th>'Night Mother (1986)</th>\n",
       "      <td>3.388889</td>\n",
       "      <td>3.352941</td>\n",
       "    </tr>\n",
       "    <tr>\n",
       "      <th>'Til There Was You (1997)</th>\n",
       "      <td>2.675676</td>\n",
       "      <td>2.733333</td>\n",
       "    </tr>\n",
       "    <tr>\n",
       "      <th>'burbs, The (1989)</th>\n",
       "      <td>2.793478</td>\n",
       "      <td>2.962085</td>\n",
       "    </tr>\n",
       "    <tr>\n",
       "      <th>...And Justice for All (1979)</th>\n",
       "      <td>3.828571</td>\n",
       "      <td>3.689024</td>\n",
       "    </tr>\n",
       "  </tbody>\n",
       "</table>\n",
       "</div>"
      ],
      "text/plain": [
       "gender                                F         M\n",
       "title                                            \n",
       "$1,000,000 Duck (1971)         3.375000  2.761905\n",
       "'Night Mother (1986)           3.388889  3.352941\n",
       "'Til There Was You (1997)      2.675676  2.733333\n",
       "'burbs, The (1989)             2.793478  2.962085\n",
       "...And Justice for All (1979)  3.828571  3.689024"
      ]
     },
     "execution_count": 199,
     "metadata": {},
     "output_type": "execute_result"
    }
   ],
   "source": [
    "gender_popularity_test[:5]"
   ]
  },
  {
   "cell_type": "code",
   "execution_count": 324,
   "metadata": {
    "collapsed": false
   },
   "outputs": [
    {
     "data": {
      "text/html": [
       "<div>\n",
       "<table border=\"1\" class=\"dataframe\">\n",
       "  <thead>\n",
       "    <tr style=\"text-align: right;\">\n",
       "      <th></th>\n",
       "      <th>len</th>\n",
       "      <th>mean</th>\n",
       "    </tr>\n",
       "    <tr>\n",
       "      <th>title</th>\n",
       "      <th></th>\n",
       "      <th></th>\n",
       "    </tr>\n",
       "  </thead>\n",
       "  <tbody>\n",
       "    <tr>\n",
       "      <th>'burbs, The (1989)</th>\n",
       "      <td>303</td>\n",
       "      <td>2.910891</td>\n",
       "    </tr>\n",
       "    <tr>\n",
       "      <th>10 Things I Hate About You (1999)</th>\n",
       "      <td>700</td>\n",
       "      <td>3.422857</td>\n",
       "    </tr>\n",
       "    <tr>\n",
       "      <th>101 Dalmatians (1961)</th>\n",
       "      <td>565</td>\n",
       "      <td>3.596460</td>\n",
       "    </tr>\n",
       "    <tr>\n",
       "      <th>101 Dalmatians (1996)</th>\n",
       "      <td>364</td>\n",
       "      <td>3.046703</td>\n",
       "    </tr>\n",
       "    <tr>\n",
       "      <th>12 Angry Men (1957)</th>\n",
       "      <td>616</td>\n",
       "      <td>4.295455</td>\n",
       "    </tr>\n",
       "  </tbody>\n",
       "</table>\n",
       "</div>"
      ],
      "text/plain": [
       "                                   len      mean\n",
       "title                                           \n",
       "'burbs, The (1989)                 303  2.910891\n",
       "10 Things I Hate About You (1999)  700  3.422857\n",
       "101 Dalmatians (1961)              565  3.596460\n",
       "101 Dalmatians (1996)              364  3.046703\n",
       "12 Angry Men (1957)                616  4.295455"
      ]
     },
     "execution_count": 324,
     "metadata": {},
     "output_type": "execute_result"
    }
   ],
   "source": [
    "# Calculate total number of ratings for each title\n",
    "ratings_by_title = data.groupby('title').size()\n",
    "\n",
    "# Determine the average number of total ratings per title\n",
    "average_total_ratings = sum(ratings_by_title)/len(ratings_by_title)\n",
    "\n",
    "# Determine which titles had above average total ratings and isolate those titles.\n",
    "high_total_titles = popularity_test.index[popularity_test['len'] >= average_total_ratings]\n",
    "high_total = popularity_test.ix[high_total_titles]\n",
    "\n",
    "high_total[:5]\n"
   ]
  },
  {
   "cell_type": "code",
   "execution_count": 201,
   "metadata": {
    "collapsed": false
   },
   "outputs": [
    {
     "data": {
      "text/plain": [
       "gender\n",
       "F    3.620366\n",
       "M    3.568879\n",
       "Name: rating, dtype: float64"
      ]
     },
     "execution_count": 201,
     "metadata": {},
     "output_type": "execute_result"
    }
   ],
   "source": [
    "# Determine the average of ALL ratings given by men and by women.\n",
    "gender_average_ratings = data.pivot_table('rating', index = 'gender',aggfunc = np.mean)\n",
    "gender_average_ratings"
   ]
  },
  {
   "cell_type": "code",
   "execution_count": 202,
   "metadata": {
    "collapsed": false
   },
   "outputs": [
    {
     "data": {
      "text/html": [
       "<div>\n",
       "<table border=\"1\" class=\"dataframe\">\n",
       "  <thead>\n",
       "    <tr style=\"text-align: right;\">\n",
       "      <th></th>\n",
       "      <th>len</th>\n",
       "      <th>mean</th>\n",
       "    </tr>\n",
       "    <tr>\n",
       "      <th>title</th>\n",
       "      <th></th>\n",
       "      <th></th>\n",
       "    </tr>\n",
       "  </thead>\n",
       "  <tbody>\n",
       "    <tr>\n",
       "      <th>12 Angry Men (1957)</th>\n",
       "      <td>616.0</td>\n",
       "      <td>4.295455</td>\n",
       "    </tr>\n",
       "    <tr>\n",
       "      <th>20,000 Leagues Under the Sea (1954)</th>\n",
       "      <td>575.0</td>\n",
       "      <td>3.702609</td>\n",
       "    </tr>\n",
       "    <tr>\n",
       "      <th>2001: A Space Odyssey (1968)</th>\n",
       "      <td>1716.0</td>\n",
       "      <td>4.068765</td>\n",
       "    </tr>\n",
       "    <tr>\n",
       "      <th>Abyss, The (1989)</th>\n",
       "      <td>1715.0</td>\n",
       "      <td>3.683965</td>\n",
       "    </tr>\n",
       "    <tr>\n",
       "      <th>Adventures of Priscilla, Queen of the Desert, The (1994)</th>\n",
       "      <td>469.0</td>\n",
       "      <td>3.805970</td>\n",
       "    </tr>\n",
       "  </tbody>\n",
       "</table>\n",
       "</div>"
      ],
      "text/plain": [
       "                                                       len      mean\n",
       "title                                                               \n",
       "12 Angry Men (1957)                                  616.0  4.295455\n",
       "20,000 Leagues Under the Sea (1954)                  575.0  3.702609\n",
       "2001: A Space Odyssey (1968)                        1716.0  4.068765\n",
       "Abyss, The (1989)                                   1715.0  3.683965\n",
       "Adventures of Priscilla, Queen of the Desert, T...   469.0  3.805970"
      ]
     },
     "execution_count": 202,
     "metadata": {},
     "output_type": "execute_result"
    }
   ],
   "source": [
    "# Determine the titles with above average female ratings and isolate those titles among the movies with above average total ratings.\n",
    "high_female_titles = gender_popularity_test.index[gender_popularity_test['F'] >= gender_average_ratings['F']]\n",
    "high_total_female = high_total.ix[high_female_titles]\n",
    "\n",
    "# Among the above isolated titles, determine those with above average male ratings and isolate those titles.\n",
    "high_male_titles = gender_popularity_test.index[gender_popularity_test['M'] >= gender_average_ratings['M']]\n",
    "high_total_female_male = high_total_female.ix[high_male_titles]\n",
    "\n",
    "# Determine the popular movies, given the definition above.\n",
    "from numpy import nan as NA\n",
    "popular_movies = high_total_female_male.dropna(how = 'all')\n",
    "popular_movies[:5]"
   ]
  },
  {
   "cell_type": "code",
   "execution_count": 203,
   "metadata": {
    "collapsed": false
   },
   "outputs": [
    {
     "data": {
      "text/html": [
       "<div>\n",
       "<table border=\"1\" class=\"dataframe\">\n",
       "  <thead>\n",
       "    <tr style=\"text-align: right;\">\n",
       "      <th></th>\n",
       "      <th>len</th>\n",
       "      <th>mean</th>\n",
       "    </tr>\n",
       "    <tr>\n",
       "      <th>title</th>\n",
       "      <th></th>\n",
       "      <th></th>\n",
       "    </tr>\n",
       "  </thead>\n",
       "  <tbody>\n",
       "    <tr>\n",
       "      <th>Seven Samurai (The Magnificent Seven) (Shichinin no samurai) (1954)</th>\n",
       "      <td>628.0</td>\n",
       "      <td>4.560510</td>\n",
       "    </tr>\n",
       "    <tr>\n",
       "      <th>Shawshank Redemption, The (1994)</th>\n",
       "      <td>2227.0</td>\n",
       "      <td>4.554558</td>\n",
       "    </tr>\n",
       "    <tr>\n",
       "      <th>Godfather, The (1972)</th>\n",
       "      <td>2223.0</td>\n",
       "      <td>4.524966</td>\n",
       "    </tr>\n",
       "    <tr>\n",
       "      <th>Close Shave, A (1995)</th>\n",
       "      <td>657.0</td>\n",
       "      <td>4.520548</td>\n",
       "    </tr>\n",
       "    <tr>\n",
       "      <th>Usual Suspects, The (1995)</th>\n",
       "      <td>1783.0</td>\n",
       "      <td>4.517106</td>\n",
       "    </tr>\n",
       "    <tr>\n",
       "      <th>Schindler's List (1993)</th>\n",
       "      <td>2304.0</td>\n",
       "      <td>4.510417</td>\n",
       "    </tr>\n",
       "    <tr>\n",
       "      <th>Wrong Trousers, The (1993)</th>\n",
       "      <td>882.0</td>\n",
       "      <td>4.507937</td>\n",
       "    </tr>\n",
       "    <tr>\n",
       "      <th>Sunset Blvd. (a.k.a. Sunset Boulevard) (1950)</th>\n",
       "      <td>470.0</td>\n",
       "      <td>4.491489</td>\n",
       "    </tr>\n",
       "    <tr>\n",
       "      <th>Raiders of the Lost Ark (1981)</th>\n",
       "      <td>2514.0</td>\n",
       "      <td>4.477725</td>\n",
       "    </tr>\n",
       "    <tr>\n",
       "      <th>Rear Window (1954)</th>\n",
       "      <td>1050.0</td>\n",
       "      <td>4.476190</td>\n",
       "    </tr>\n",
       "  </tbody>\n",
       "</table>\n",
       "</div>"
      ],
      "text/plain": [
       "                                                       len      mean\n",
       "title                                                               \n",
       "Seven Samurai (The Magnificent Seven) (Shichini...   628.0  4.560510\n",
       "Shawshank Redemption, The (1994)                    2227.0  4.554558\n",
       "Godfather, The (1972)                               2223.0  4.524966\n",
       "Close Shave, A (1995)                                657.0  4.520548\n",
       "Usual Suspects, The (1995)                          1783.0  4.517106\n",
       "Schindler's List (1993)                             2304.0  4.510417\n",
       "Wrong Trousers, The (1993)                           882.0  4.507937\n",
       "Sunset Blvd. (a.k.a. Sunset Boulevard) (1950)        470.0  4.491489\n",
       "Raiders of the Lost Ark (1981)                      2514.0  4.477725\n",
       "Rear Window (1954)                                  1050.0  4.476190"
      ]
     },
     "execution_count": 203,
     "metadata": {},
     "output_type": "execute_result"
    }
   ],
   "source": [
    "# Given the popluar movies, determine the 10 most popular.\n",
    "most_popular_movies = popular_movies.sort_values(by='mean',ascending = False)\n",
    "most_popular_movies[:10]"
   ]
  },
  {
   "cell_type": "code",
   "execution_count": 211,
   "metadata": {
    "collapsed": false
   },
   "outputs": [
    {
     "data": {
      "text/plain": [
       "age\n",
       "1     3.549520\n",
       "18    3.507573\n",
       "25    3.545235\n",
       "35    3.618162\n",
       "45    3.638062\n",
       "50    3.714512\n",
       "56    3.766632\n",
       "Name: rating, dtype: float64"
      ]
     },
     "execution_count": 211,
     "metadata": {},
     "output_type": "execute_result"
    }
   ],
   "source": [
    "#Conjecture 1.) The older a person gets, the more difficult they are to please.\n",
    "# Compute average rating by age group\n",
    "age_avg_ratings = data.pivot_table('rating', index = 'age',aggfunc = np.mean)\n",
    "age_avg_ratings"
   ]
  },
  {
   "cell_type": "code",
   "execution_count": 213,
   "metadata": {
    "collapsed": false
   },
   "outputs": [
    {
     "data": {
      "text/plain": [
       "age\n",
       "1     2.627286\n",
       "18    3.524510\n",
       "25    4.040247\n",
       "35    3.644629\n",
       "45    3.340652\n",
       "50    3.278268\n",
       "56    2.321259\n",
       "Name: weighted_mean, dtype: float64"
      ]
     },
     "execution_count": 213,
     "metadata": {},
     "output_type": "execute_result"
    }
   ],
   "source": [
    "# Compute weighted average by weighting each rating by the total number of ratings that individual submits\n",
    "avg_by_user = data.pivot_table('rating',index = ['age','user_id'], aggfunc = [ len , np.mean])\n",
    "avg_by_user[:10]\n",
    "\n",
    "avg_ratings = np.mean(avg_by_user['len'])\n",
    "\n",
    "avg_by_user['weight'] = avg_by_user['len']/avg_ratings\n",
    "avg_by_user['weighted_mean'] = avg_by_user['mean']*avg_by_user['weight']\n",
    "\n",
    "age_avg_weighted_ratings = avg_by_user.pivot_table('weighted_mean', index = avg_by_user.index.droplevel(1), aggfunc = np.mean)\n",
    "age_avg_weighted_ratings"
   ]
  },
  {
   "cell_type": "code",
   "execution_count": 214,
   "metadata": {
    "collapsed": false
   },
   "outputs": [
    {
     "data": {
      "text/plain": [
       "rating\n",
       "1    27.411756\n",
       "2    28.607603\n",
       "3    29.730035\n",
       "4    30.154405\n",
       "5    30.221130\n",
       "Name: age, dtype: float64"
      ]
     },
     "execution_count": 214,
     "metadata": {},
     "output_type": "execute_result"
    }
   ],
   "source": [
    "# Compute average age per rating\n",
    "avg_age_ratings = data.pivot_table('age', index = 'rating',aggfunc = np.mean)\n",
    "avg_age_ratings"
   ]
  },
  {
   "cell_type": "code",
   "execution_count": 216,
   "metadata": {
    "collapsed": false
   },
   "outputs": [
    {
     "name": "stdout",
     "output_type": "stream",
     "text": [
      "Frequency of Age Groups Ratings\n",
      "rating        1      2       3       4      5\n",
      "age                                          \n",
      "Under 18   2238   2983    6380    8808   6802\n",
      "18-24     13063  22073   47601   60241  40558\n",
      "25-34     23898  44817  104287  136824  85730\n",
      "35-44      9067  20253   52990   71983  44710\n",
      "45-49      3409   8437   22311   30334  19142\n",
      "50-55      2948   5993   18465   26484  18600\n",
      "56+        1551   3001    9163   14297  10768\n"
     ]
    }
   ],
   "source": [
    "age_counts = data.pivot_table('title', index='age', columns='rating', aggfunc='count')\n",
    "age_counts.rename(index={1: 'Under 18', 18: '18-24', 25: '25-34', 35: '35-44',\n",
    "                                        45: '45-49', 50: '50-55', 56: '56+'}, inplace=True)\n",
    "print ('Frequency of Age Groups Ratings')\n",
    "print (age_counts)"
   ]
  },
  {
   "cell_type": "code",
   "execution_count": 217,
   "metadata": {
    "collapsed": false
   },
   "outputs": [
    {
     "data": {
      "text/html": [
       "<div>\n",
       "<table border=\"1\" class=\"dataframe\">\n",
       "  <thead>\n",
       "    <tr style=\"text-align: right;\">\n",
       "      <th>rating</th>\n",
       "      <th>1</th>\n",
       "      <th>2</th>\n",
       "      <th>3</th>\n",
       "      <th>4</th>\n",
       "      <th>5</th>\n",
       "    </tr>\n",
       "    <tr>\n",
       "      <th>age</th>\n",
       "      <th></th>\n",
       "      <th></th>\n",
       "      <th></th>\n",
       "      <th></th>\n",
       "      <th></th>\n",
       "    </tr>\n",
       "  </thead>\n",
       "  <tbody>\n",
       "    <tr>\n",
       "      <th>Under 18</th>\n",
       "      <td>0.082246</td>\n",
       "      <td>0.109625</td>\n",
       "      <td>0.234464</td>\n",
       "      <td>0.323693</td>\n",
       "      <td>0.249972</td>\n",
       "    </tr>\n",
       "    <tr>\n",
       "      <th>18-24</th>\n",
       "      <td>0.071174</td>\n",
       "      <td>0.120265</td>\n",
       "      <td>0.259355</td>\n",
       "      <td>0.328224</td>\n",
       "      <td>0.220981</td>\n",
       "    </tr>\n",
       "    <tr>\n",
       "      <th>25-34</th>\n",
       "      <td>0.060416</td>\n",
       "      <td>0.113301</td>\n",
       "      <td>0.263647</td>\n",
       "      <td>0.345903</td>\n",
       "      <td>0.216733</td>\n",
       "    </tr>\n",
       "    <tr>\n",
       "      <th>35-44</th>\n",
       "      <td>0.045562</td>\n",
       "      <td>0.101772</td>\n",
       "      <td>0.266277</td>\n",
       "      <td>0.361718</td>\n",
       "      <td>0.224670</td>\n",
       "    </tr>\n",
       "    <tr>\n",
       "      <th>45-49</th>\n",
       "      <td>0.040761</td>\n",
       "      <td>0.100881</td>\n",
       "      <td>0.266773</td>\n",
       "      <td>0.362704</td>\n",
       "      <td>0.228881</td>\n",
       "    </tr>\n",
       "    <tr>\n",
       "      <th>50-55</th>\n",
       "      <td>0.040668</td>\n",
       "      <td>0.082673</td>\n",
       "      <td>0.254725</td>\n",
       "      <td>0.365347</td>\n",
       "      <td>0.256587</td>\n",
       "    </tr>\n",
       "    <tr>\n",
       "      <th>56+</th>\n",
       "      <td>0.039995</td>\n",
       "      <td>0.077385</td>\n",
       "      <td>0.236282</td>\n",
       "      <td>0.368669</td>\n",
       "      <td>0.277669</td>\n",
       "    </tr>\n",
       "  </tbody>\n",
       "</table>\n",
       "</div>"
      ],
      "text/plain": [
       "rating           1         2         3         4         5\n",
       "age                                                       \n",
       "Under 18  0.082246  0.109625  0.234464  0.323693  0.249972\n",
       "18-24     0.071174  0.120265  0.259355  0.328224  0.220981\n",
       "25-34     0.060416  0.113301  0.263647  0.345903  0.216733\n",
       "35-44     0.045562  0.101772  0.266277  0.361718  0.224670\n",
       "45-49     0.040761  0.100881  0.266773  0.362704  0.228881\n",
       "50-55     0.040668  0.082673  0.254725  0.365347  0.256587\n",
       "56+       0.039995  0.077385  0.236282  0.368669  0.277669"
      ]
     },
     "execution_count": 217,
     "metadata": {},
     "output_type": "execute_result"
    }
   ],
   "source": [
    "#normalize\n",
    "age_counts_norm = age_counts.div(age_counts.sum(1).astype(float), axis=0)\n",
    "age_counts_norm"
   ]
  },
  {
   "cell_type": "code",
   "execution_count": 219,
   "metadata": {
    "collapsed": false
   },
   "outputs": [
    {
     "data": {
      "text/plain": [
       "<matplotlib.legend.Legend at 0x2564c1af278>"
      ]
     },
     "execution_count": 219,
     "metadata": {},
     "output_type": "execute_result"
    },
    {
     "data": {
      "image/png": "[encoded data removed]",
      "text/plain": [
       "<matplotlib.figure.Figure at 0x2564c1af780>"
      ]
     },
     "metadata": {},
     "output_type": "display_data"
    }
   ],
   "source": [
    "age_counts_norm.plot(ylim=[0,0.4],kind='bar', color=['yellow','#E50E14','#ec971f','#00b27f','#5898f1'],title = \"Percent of Ratings By Age\").legend(bbox_to_anchor=(1.05, 1), loc=2, borderaxespad=0.)"
   ]
  },
  {
   "cell_type": "markdown",
   "metadata": {},
   "source": [
    "# Problem 2 (20 points total): Expand our investigation to histograms\n",
    "\n",
    "**An obvious issue with any inferences drawn from Problem 1 is that we did not consider how many times a movie was rated.** \n",
    "* (2 points) Plot a histogram of the ratings of all movies.\n",
    "* (2 points) Plot a histogram of the *number* of ratings each movie recieved.\n",
    "* (2 points) Plot a histogram of the *average rating* for each movie.\n",
    "* (6 points) Plot a histogram of the *average rating* for movies which are rated more than 100 times.\n",
    "    * What do you observe about the tails of the histogram where you use all the movies versus the one where you only use movies rated more than 100 times?\n",
    "    * Which highly rated movies would you trust are actually good?  Those rated more than 100 times or those rated less than 100 times?\n",
    "* (8 points) Make some conjectures about the distribution of ratings? Support your answers with data!  \n",
    "    *  For example, what age range do you think has more extreme ratings?  Do you think children are more or less likely to rate a movie 1 or 5?\n",
    "    *  Be sure to come up with your own conjectures and support them with data!"
   ]
  },
  {
   "cell_type": "code",
   "execution_count": 228,
   "metadata": {
    "collapsed": false
   },
   "outputs": [
    {
     "data": {
      "text/plain": [
       "<matplotlib.text.Text at 0x25641477c50>"
      ]
     },
     "execution_count": 228,
     "metadata": {},
     "output_type": "execute_result"
    },
    {
     "data": {
      "image/png": "[encoded data removed]",
      "text/plain": [
       "<matplotlib.figure.Figure at 0x25629b26cf8>"
      ]
     },
     "metadata": {},
     "output_type": "display_data"
    }
   ],
   "source": [
    "import pandas as pd\n",
    "import numpy as np\n",
    "import matplotlib.pyplot as plt\n",
    "#-------------------------------\n",
    "# Your code goes here.\n",
    "# Add as many cells as you need\n",
    "#-------------------------------\n",
    "#Plot a histogram of the ratings of all movies.\n",
    "Rating_all=data.pivot_table('title',index='rating',aggfunc='count')\n",
    "Rating_all.plot(kind='bar', color='green')\n",
    "plt.title('Histogram of all ratings')\n",
    "plt.ylabel('Total number')\n",
    "\n",
    "\n"
   ]
  },
  {
   "cell_type": "code",
   "execution_count": 226,
   "metadata": {
    "collapsed": false
   },
   "outputs": [
    {
     "data": {
      "text/plain": [
       "<matplotlib.text.Text at 0x25629e34f28>"
      ]
     },
     "execution_count": 226,
     "metadata": {},
     "output_type": "execute_result"
    },
    {
     "data": {
      "image/png": "[encoded data removed]",
      "text/plain": [
       "<matplotlib.figure.Figure at 0x25644bbd860>"
      ]
     },
     "metadata": {},
     "output_type": "display_data"
    }
   ],
   "source": [
    "#Plot a histogram of the number of ratings each movie recieved.\n",
    "Rating_each=data.pivot_table('rating',index='title',aggfunc='count')\n",
    "Rating_each.hist()\n",
    "plt.title('Histogram of Number of ratings each movie received')\n",
    "plt.ylabel('Number of Movies')\n",
    "plt.xlabel('Number of Ratings')"
   ]
  },
  {
   "cell_type": "code",
   "execution_count": 327,
   "metadata": {
    "collapsed": false
   },
   "outputs": [
    {
     "data": {
      "text/plain": [
       "<matplotlib.text.Text at 0x256601d87f0>"
      ]
     },
     "execution_count": 327,
     "metadata": {},
     "output_type": "execute_result"
    },
    {
     "data": {
      "image/png": "[encoded data removed]",
      "text/plain": [
       "<matplotlib.figure.Figure at 0x2560c1a4be0>"
      ]
     },
     "metadata": {},
     "output_type": "display_data"
    }
   ],
   "source": [
    "#Plot a histogram of the average rating for each movie.\n",
    "Avg_rating_each=data.pivot_table('rating',index='title',aggfunc='mean')\n",
    "Avg_rating_each.hist(color='orange')\n",
    "plt.title('Histogram of Average rating for each movie')\n",
    "plt.ylabel('Number of Movies')\n",
    "plt.xlabel('Average Rating')"
   ]
  },
  {
   "cell_type": "code",
   "execution_count": 232,
   "metadata": {
    "collapsed": false
   },
   "outputs": [
    {
     "data": {
      "text/plain": [
       "<matplotlib.text.Text at 0x25643075358>"
      ]
     },
     "execution_count": 232,
     "metadata": {},
     "output_type": "execute_result"
    },
    {
     "data": {
      "image/png": "[encoded data removed]",
      "text/plain": [
       "<matplotlib.figure.Figure at 0x25643086780>"
      ]
     },
     "metadata": {},
     "output_type": "display_data"
    }
   ],
   "source": [
    "rating_by_title = data.groupby('title').size() \n",
    "active_titles = rating_by_title.index[rating_by_title > 100] \n",
    "avg_ratings_each_active = Avg_rating_each.ix[active_titles] \n",
    "avg_ratings_each_active.hist(color='orange')\n",
    "plt.title('average rating for movies rated more than 100 times')\n",
    "plt.ylabel('Number of Movies')\n",
    "plt.xlabel('Average rating')\n",
    "#tails go away, we would trust these ratings more (bigger sample size)"
   ]
  },
  {
   "cell_type": "code",
   "execution_count": 319,
   "metadata": {
    "collapsed": false
   },
   "outputs": [
    {
     "name": "stderr",
     "output_type": "stream",
     "text": [
      "C:\\Users\\Praneeth\\Anaconda3\\lib\\site-packages\\ipykernel\\__main__.py:12: FutureWarning: sort is deprecated, use sort_values(inplace=True) for INPLACE sorting\n"
     ]
    },
    {
     "name": "stdout",
     "output_type": "stream",
     "text": [
      "genres\n",
      "Comedy                     24204\n",
      "Drama                      17678\n",
      "Comedy|Romance              7940\n",
      "Comedy|Drama                7649\n",
      "Action|Thriller             5632\n",
      "Drama|Romance               4766\n",
      "Horror                      4250\n",
      "Drama|Thriller              3245\n",
      "Action|Adventure|Sci-Fi     3173\n",
      "Thriller                    2917\n",
      "dtype: int64\n",
      "     user_id  movie_id  rating   timestamp gender  age  occupation    zip  \\\n",
      "0          1      1193       5   978300760      F    1          10  48067   \n",
      "6         19      1193       5   982730936      M    1          10  48073   \n",
      "27        99      1193       2   982791053      F    1          10  19390   \n",
      "103      349      1193       4  1007923963      M    1          10  08035   \n",
      "203      719      1193       4   975527654      M    1           0  75070   \n",
      "\n",
      "                                      title genres age_group comedy  hour  \\\n",
      "0    One Flew Over the Cuckoo's Nest (1975)  Drama  Under 18  False    17   \n",
      "6    One Flew Over the Cuckoo's Nest (1975)  Drama  Under 18  False    23   \n",
      "27   One Flew Over the Cuckoo's Nest (1975)  Drama  Under 18  False    16   \n",
      "103  One Flew Over the Cuckoo's Nest (1975)  Drama  Under 18  False    13   \n",
      "203  One Flew Over the Cuckoo's Nest (1975)  Drama  Under 18  False    14   \n",
      "\n",
      "    drama adventure action Inactive  year  \n",
      "0    True      True   True    False  1975  \n",
      "6    True      True   True    False  1975  \n",
      "27   True      True   True    False  1975  \n",
      "103  True      True   True    False  1975  \n",
      "203  True      True   True    False  1975  \n"
     ]
    },
    {
     "data": {
      "text/plain": [
       "(array([ 2238.,  2983.,  6380.,  8808.,  6802.]),\n",
       " array([ 1. ,  1.8,  2.6,  3.4,  4.2,  5. ]),\n",
       " <a list of 5 Patch objects>)"
      ]
     },
     "execution_count": 319,
     "metadata": {},
     "output_type": "execute_result"
    },
    {
     "data": {
      "image/png": "[encoded data removed]",
      "text/plain": [
       "<matplotlib.figure.Figure at 0x2560b27bac8>"
      ]
     },
     "metadata": {},
     "output_type": "display_data"
    }
   ],
   "source": [
    "#*  For example, what age range do you think has more extreme ratings?  Do you think children are more or less likely to rate a movie 1 or 5?\n",
    "#*  Be sure to come up with your own conjectures and support them with data!\n",
    "\n",
    "labels = ['Under 18', '18-24', '25-34', '35-44', '45-49', '50-55', '56+']\n",
    "dat=data\n",
    "dat['age_group'] = pd.cut(dat.age, bins=(0, 17, 24, 34, 44, 49, 55, 100), right=True, labels=labels)\n",
    "\n",
    "#check all age blocks of 10 years\n",
    "#kids\n",
    "kids=data[(data.age_group=='Under 18')]\n",
    "b=teens.groupby('genres').size()\n",
    "b.sort(ascending=False)\n",
    "print (b[:10])\n",
    "print(kids.head())\n",
    "\n",
    "#teens\n",
    "teens=data[(data.age_group=='18-24')]\n",
    "\n",
    "#20's\n",
    "a20=data[(data.age_group=='25-34')]\n",
    "\n",
    "#30's\n",
    "a30=data[(data.age_group=='35-44')]\n",
    "\n",
    "#40's\n",
    "a40=data[(data.age_group=='45-49')]\n",
    "\n",
    "#50's\n",
    "a50=data[(data.age_group=='50-55')]\n",
    "\n",
    "#plus\n",
    "old=data[(data.age_group=='56+')]\n",
    "\n",
    "plt.hist(kids['rating'], bins =5, alpha=0.5,color = 'yellow', label='kids')\n",
    "#plt.hist(old['rating'], bins =5, alpha=0.5,color = 'black', label='old')\n",
    "#plt.legend(loc='upper right')\n",
    "\n",
    "#print(kids['rating'].hist(bins=5, color = 'red'))\n",
    "\n",
    "#print(old['rating'].hist(bins=5,color = 'violet'))\n",
    "\n"
   ]
  },
  {
   "cell_type": "code",
   "execution_count": 287,
   "metadata": {
    "collapsed": false
   },
   "outputs": [
    {
     "name": "stdout",
     "output_type": "stream",
     "text": [
      "gender\n",
      "F    1.111228\n",
      "M    1.118724\n",
      "Name: rating, dtype: float64\n",
      "age_group\n",
      "Under 18    1.208417\n",
      "18-24       1.165970\n",
      "25-34       1.127175\n",
      "35-44       1.078101\n",
      "45-49       1.065385\n",
      "50-55       1.061380\n",
      "56+         1.062551\n",
      "Name: rating, dtype: float64\n"
     ]
    }
   ],
   "source": [
    "rating_std_by_gender = data.groupby('gender')['rating'].std()\n",
    "print (rating_std_by_gender)\n",
    "rating_std_by_age = data.groupby('age_group')['rating'].std()\n",
    "print (rating_std_by_age)"
   ]
  },
  {
   "cell_type": "code",
   "execution_count": 312,
   "metadata": {
    "collapsed": false
   },
   "outputs": [
    {
     "data": {
      "text/html": [
       "<div>\n",
       "<table border=\"1\" class=\"dataframe\">\n",
       "  <thead>\n",
       "    <tr style=\"text-align: right;\">\n",
       "      <th></th>\n",
       "      <th>user_id</th>\n",
       "      <th>movie_id</th>\n",
       "      <th>rating</th>\n",
       "      <th>timestamp</th>\n",
       "      <th>gender</th>\n",
       "      <th>age</th>\n",
       "      <th>occupation</th>\n",
       "      <th>zip</th>\n",
       "      <th>title</th>\n",
       "      <th>genres</th>\n",
       "      <th>age_group</th>\n",
       "      <th>comedy</th>\n",
       "      <th>hour</th>\n",
       "      <th>drama</th>\n",
       "      <th>adventure</th>\n",
       "      <th>action</th>\n",
       "      <th>Inactive</th>\n",
       "      <th>year</th>\n",
       "    </tr>\n",
       "  </thead>\n",
       "  <tbody>\n",
       "    <tr>\n",
       "      <th>0</th>\n",
       "      <td>1</td>\n",
       "      <td>1193</td>\n",
       "      <td>5</td>\n",
       "      <td>978300760</td>\n",
       "      <td>F</td>\n",
       "      <td>1</td>\n",
       "      <td>10</td>\n",
       "      <td>48067</td>\n",
       "      <td>One Flew Over the Cuckoo's Nest (1975)</td>\n",
       "      <td>Drama</td>\n",
       "      <td>Under 18</td>\n",
       "      <td>False</td>\n",
       "      <td>17</td>\n",
       "      <td>True</td>\n",
       "      <td>True</td>\n",
       "      <td>True</td>\n",
       "      <td>False</td>\n",
       "      <td>1975</td>\n",
       "    </tr>\n",
       "    <tr>\n",
       "      <th>1</th>\n",
       "      <td>2</td>\n",
       "      <td>1193</td>\n",
       "      <td>5</td>\n",
       "      <td>978298413</td>\n",
       "      <td>M</td>\n",
       "      <td>56</td>\n",
       "      <td>16</td>\n",
       "      <td>70072</td>\n",
       "      <td>One Flew Over the Cuckoo's Nest (1975)</td>\n",
       "      <td>Drama</td>\n",
       "      <td>56+</td>\n",
       "      <td>False</td>\n",
       "      <td>16</td>\n",
       "      <td>True</td>\n",
       "      <td>True</td>\n",
       "      <td>True</td>\n",
       "      <td>False</td>\n",
       "      <td>1975</td>\n",
       "    </tr>\n",
       "    <tr>\n",
       "      <th>2</th>\n",
       "      <td>12</td>\n",
       "      <td>1193</td>\n",
       "      <td>4</td>\n",
       "      <td>978220179</td>\n",
       "      <td>M</td>\n",
       "      <td>25</td>\n",
       "      <td>12</td>\n",
       "      <td>32793</td>\n",
       "      <td>One Flew Over the Cuckoo's Nest (1975)</td>\n",
       "      <td>Drama</td>\n",
       "      <td>25-34</td>\n",
       "      <td>False</td>\n",
       "      <td>18</td>\n",
       "      <td>True</td>\n",
       "      <td>True</td>\n",
       "      <td>True</td>\n",
       "      <td>False</td>\n",
       "      <td>1975</td>\n",
       "    </tr>\n",
       "    <tr>\n",
       "      <th>3</th>\n",
       "      <td>15</td>\n",
       "      <td>1193</td>\n",
       "      <td>4</td>\n",
       "      <td>978199279</td>\n",
       "      <td>M</td>\n",
       "      <td>25</td>\n",
       "      <td>7</td>\n",
       "      <td>22903</td>\n",
       "      <td>One Flew Over the Cuckoo's Nest (1975)</td>\n",
       "      <td>Drama</td>\n",
       "      <td>25-34</td>\n",
       "      <td>False</td>\n",
       "      <td>13</td>\n",
       "      <td>True</td>\n",
       "      <td>True</td>\n",
       "      <td>True</td>\n",
       "      <td>False</td>\n",
       "      <td>1975</td>\n",
       "    </tr>\n",
       "    <tr>\n",
       "      <th>4</th>\n",
       "      <td>17</td>\n",
       "      <td>1193</td>\n",
       "      <td>5</td>\n",
       "      <td>978158471</td>\n",
       "      <td>M</td>\n",
       "      <td>50</td>\n",
       "      <td>1</td>\n",
       "      <td>95350</td>\n",
       "      <td>One Flew Over the Cuckoo's Nest (1975)</td>\n",
       "      <td>Drama</td>\n",
       "      <td>50-55</td>\n",
       "      <td>False</td>\n",
       "      <td>1</td>\n",
       "      <td>True</td>\n",
       "      <td>True</td>\n",
       "      <td>True</td>\n",
       "      <td>False</td>\n",
       "      <td>1975</td>\n",
       "    </tr>\n",
       "  </tbody>\n",
       "</table>\n",
       "</div>"
      ],
      "text/plain": [
       "   user_id  movie_id  rating  timestamp gender  age  occupation    zip  \\\n",
       "0        1      1193       5  978300760      F    1          10  48067   \n",
       "1        2      1193       5  978298413      M   56          16  70072   \n",
       "2       12      1193       4  978220179      M   25          12  32793   \n",
       "3       15      1193       4  978199279      M   25           7  22903   \n",
       "4       17      1193       5  978158471      M   50           1  95350   \n",
       "\n",
       "                                    title genres age_group comedy  hour drama  \\\n",
       "0  One Flew Over the Cuckoo's Nest (1975)  Drama  Under 18  False    17  True   \n",
       "1  One Flew Over the Cuckoo's Nest (1975)  Drama       56+  False    16  True   \n",
       "2  One Flew Over the Cuckoo's Nest (1975)  Drama     25-34  False    18  True   \n",
       "3  One Flew Over the Cuckoo's Nest (1975)  Drama     25-34  False    13  True   \n",
       "4  One Flew Over the Cuckoo's Nest (1975)  Drama     50-55  False     1  True   \n",
       "\n",
       "  adventure action Inactive  year  \n",
       "0      True   True    False  1975  \n",
       "1      True   True    False  1975  \n",
       "2      True   True    False  1975  \n",
       "3      True   True    False  1975  \n",
       "4      True   True    False  1975  "
      ]
     },
     "execution_count": 312,
     "metadata": {},
     "output_type": "execute_result"
    }
   ],
   "source": [
    "\"\"\"Conjecture 2: The distribution of all ratings of older movies is less normally-distributed than that of newer movies.\n",
    "Newer movies are likely being watched by audiences looking to be entertained.Those watching \n",
    "older movies (i.e. movies made before 1960) likely have some nostalgia tied up in these older films.\"\"\"\n",
    "# Extract the year from the title\n",
    "\n",
    "def extract(string, start='(', stop=')'):\n",
    "        while string.index(stop) - (string.index(start)+1)!= 4:\n",
    "            string = string[:string.index(start)] + string[string.index(stop)+1:]\n",
    "        return string[string.index(start)+1:string.index(stop)]\n",
    "    \n",
    "titles = data['title']\n",
    "year = [int(extract(title)) for title in titles]\n",
    "year_series = pd.DataFrame(year, index=data.index)\n",
    "data['year'] = year_series\n",
    "\n",
    "data[:5]"
   ]
  },
  {
   "cell_type": "code",
   "execution_count": 313,
   "metadata": {
    "collapsed": false
   },
   "outputs": [
    {
     "data": {
      "text/plain": [
       "1959"
      ]
     },
     "execution_count": 313,
     "metadata": {},
     "output_type": "execute_result"
    }
   ],
   "source": [
    "year_array = list(set(data['year'].values))\n",
    "average_year = int(float(sum(year_array))/len(year_array))\n",
    "average_year"
   ]
  },
  {
   "cell_type": "code",
   "execution_count": 314,
   "metadata": {
    "collapsed": false
   },
   "outputs": [
    {
     "data": {
      "text/plain": [
       "<matplotlib.text.Text at 0x2560b286710>"
      ]
     },
     "execution_count": 314,
     "metadata": {},
     "output_type": "execute_result"
    },
    {
     "data": {
      "image/png": "[encoded data removed]",
      "text/plain": [
       "<matplotlib.figure.Figure at 0x2560aee74a8>"
      ]
     },
     "metadata": {},
     "output_type": "display_data"
    }
   ],
   "source": [
    "old_data = data[data['year']<= average_year]\n",
    "old_rating_all=old_data.pivot_table('title',index='rating',aggfunc='count')\n",
    "old_rating_all.plot(kind='bar', color='#FA5744')\n",
    "plt.title('Histogram of all of early movies')\n",
    "plt.ylabel('Total number')"
   ]
  },
  {
   "cell_type": "code",
   "execution_count": 315,
   "metadata": {
    "collapsed": false
   },
   "outputs": [
    {
     "data": {
      "text/plain": [
       "<matplotlib.text.Text at 0x2560be2a780>"
      ]
     },
     "execution_count": 315,
     "metadata": {},
     "output_type": "execute_result"
    },
    {
     "data": {
      "image/png": "[encoded data removed]",
      "text/plain": [
       "<matplotlib.figure.Figure at 0x2560be4e780>"
      ]
     },
     "metadata": {},
     "output_type": "display_data"
    }
   ],
   "source": [
    "newer_data = data[data['year']>= average_year]\n",
    "new_rating_all=newer_data.pivot_table('title',index='rating',aggfunc='count')\n",
    "new_rating_all.plot(kind='bar', color='#00b27f')\n",
    "plt.title('Histogram of all of newer movies')\n",
    "plt.ylabel('Total number')"
   ]
  },
  {
   "cell_type": "code",
   "execution_count": null,
   "metadata": {
    "collapsed": true
   },
   "outputs": [],
   "source": []
  },
  {
   "cell_type": "markdown",
   "metadata": {},
   "source": [
    "*------------------------\n",
    "\n",
    "# Problem 3: (20 points total)\n",
    "## Correlation:  Men versus women\n",
    "\n",
    "Let look more closely at the relationship between the pieces of data we have."
   ]
  },
  {
   "cell_type": "markdown",
   "metadata": {},
   "source": [
    "* (2 points) Make a scatter plot of men versus women and their mean rating for every movie.\n",
    "* (2 points) Make a scatter plot of men versus women and their mean rating for movies rated more than 200 times.\n",
    "* (6 points) Compute the *correlation coefficent* between the ratings of men and women.\n",
    "    * What do you observe?\n",
    "    * Are the ratings similiar or not? Support your answer with data!\n",
    "* (10 points) Conjecture under what circumstances the rating given by one gender can be used to predict the rating given by the other gender.\n",
    "    * For example, are men and women more similar when they are younger or older?\n",
    "    * Be sure to come up with your own conjectures and support them with data!"
   ]
  },
  {
   "cell_type": "code",
   "execution_count": 240,
   "metadata": {
    "collapsed": false
   },
   "outputs": [
    {
     "data": {
      "text/plain": [
       "<matplotlib.text.Text at 0x25646c47d30>"
      ]
     },
     "execution_count": 240,
     "metadata": {},
     "output_type": "execute_result"
    },
    {
     "data": {
      "image/png": "[encoded data removed]",
      "text/plain": [
       "<matplotlib.figure.Figure at 0x2564678a7f0>"
      ]
     },
     "metadata": {},
     "output_type": "display_data"
    }
   ],
   "source": [
    "%matplotlib inline\n",
    "\n",
    "import matplotlib\n",
    "import matplotlib.pyplot as plt\n",
    "\n",
    "# Use a pivot table to compute mean ratings per title by gender\n",
    "mean_ratings = data.pivot_table('rating',index = 'title',columns = 'gender',aggfunc = 'mean')\n",
    "\n",
    "# Scatter this data.\n",
    "plt.scatter(mean_ratings['M'], mean_ratings['F'])\n",
    "plt.title('Average Ratings by Movie')\n",
    "plt.ylabel('Average female rating')\n",
    "plt.xlabel('Average male rating')\n",
    "\n",
    "\n"
   ]
  },
  {
   "cell_type": "code",
   "execution_count": 241,
   "metadata": {
    "collapsed": false
   },
   "outputs": [
    {
     "data": {
      "text/plain": [
       "<matplotlib.text.Text at 0x2564678b128>"
      ]
     },
     "execution_count": 241,
     "metadata": {},
     "output_type": "execute_result"
    },
    {
     "data": {
      "image/png": "[encoded data removed]",
      "text/plain": [
       "<matplotlib.figure.Figure at 0x2564676d4e0>"
      ]
     },
     "metadata": {},
     "output_type": "display_data"
    }
   ],
   "source": [
    "# Determine titles with more than 200 total ratings.\n",
    "ratings_by_title = data.groupby('title').size()\n",
    "active_titles = ratings_by_title.index[ratings_by_title > 200]\n",
    "\n",
    "# Extract these titles\n",
    "over_200_mean_ratings = mean_ratings.ix[active_titles]\n",
    "\n",
    "#Produce scatter plot\n",
    "plt.scatter(over_200_mean_ratings['M'], over_200_mean_ratings['F'])\n",
    "plt.title('Average Ratings by Movie, \\n Among movies rated more than 200 times')\n",
    "plt.ylabel('Average female rating')\n",
    "plt.xlabel('Average male rating')"
   ]
  },
  {
   "cell_type": "code",
   "execution_count": 243,
   "metadata": {
    "collapsed": false
   },
   "outputs": [
    {
     "name": "stdout",
     "output_type": "stream",
     "text": [
      "correlation coefficient between averege male and female ratings: 0.7631898908583273\n"
     ]
    }
   ],
   "source": [
    "# Compute the correlation coefficient\n",
    "print ('correlation coefficient between averege male and female ratings: {0}'.format(mean_ratings.M.corr(mean_ratings.F)))"
   ]
  },
  {
   "cell_type": "code",
   "execution_count": 245,
   "metadata": {
    "collapsed": false
   },
   "outputs": [
    {
     "name": "stdout",
     "output_type": "stream",
     "text": [
      "correlation coefficient between averege male and female ratings among movies with over 200 ratings: 0.9183613857026666\n"
     ]
    }
   ],
   "source": [
    "# Based on scatter plots above, it is clear that men and women tend to agree more when the movies have a higher total number\n",
    "# of ratings.  Calculate the correlation coeffcient in this case\n",
    "print ('correlation coefficient between averege male and female ratings among movies with over 200 ratings: {0}'.format(\n",
    "    over_200_mean_ratings.M.corr(over_200_mean_ratings.F)))"
   ]
  },
  {
   "cell_type": "code",
   "execution_count": 280,
   "metadata": {
    "collapsed": false
   },
   "outputs": [
    {
     "data": {
      "text/html": [
       "<div>\n",
       "<table border=\"1\" class=\"dataframe\">\n",
       "  <thead>\n",
       "    <tr style=\"text-align: right;\">\n",
       "      <th>gender</th>\n",
       "      <th>F</th>\n",
       "      <th>M</th>\n",
       "    </tr>\n",
       "    <tr>\n",
       "      <th>title</th>\n",
       "      <th></th>\n",
       "      <th></th>\n",
       "    </tr>\n",
       "  </thead>\n",
       "  <tbody>\n",
       "    <tr>\n",
       "      <th>$1,000,000 Duck (1971)</th>\n",
       "      <td>2.666667</td>\n",
       "      <td>3.000000</td>\n",
       "    </tr>\n",
       "    <tr>\n",
       "      <th>'Night Mother (1986)</th>\n",
       "      <td>3.285714</td>\n",
       "      <td>3.666667</td>\n",
       "    </tr>\n",
       "    <tr>\n",
       "      <th>'Til There Was You (1997)</th>\n",
       "      <td>2.750000</td>\n",
       "      <td>2.875000</td>\n",
       "    </tr>\n",
       "    <tr>\n",
       "      <th>'burbs, The (1989)</th>\n",
       "      <td>2.956522</td>\n",
       "      <td>2.887097</td>\n",
       "    </tr>\n",
       "    <tr>\n",
       "      <th>...And Justice for All (1979)</th>\n",
       "      <td>3.615385</td>\n",
       "      <td>3.613636</td>\n",
       "    </tr>\n",
       "  </tbody>\n",
       "</table>\n",
       "</div>"
      ],
      "text/plain": [
       "gender                                F         M\n",
       "title                                            \n",
       "$1,000,000 Duck (1971)         2.666667  3.000000\n",
       "'Night Mother (1986)           3.285714  3.666667\n",
       "'Til There Was You (1997)      2.750000  2.875000\n",
       "'burbs, The (1989)             2.956522  2.887097\n",
       "...And Justice for All (1979)  3.615385  3.613636"
      ]
     },
     "execution_count": 280,
     "metadata": {},
     "output_type": "execute_result"
    }
   ],
   "source": [
    "#Conjecture 1.) When they are tired Male and female rate more similarly \n",
    "import time\n",
    "\n",
    "# Convert time stamps to local time and extract the hour.\n",
    "timestamps = data['timestamp']\n",
    "hour = [time.localtime(stamp).tm_hour for stamp in timestamps.values]\n",
    "hour_series = pd.DataFrame(hour, index=data.index)\n",
    "data['hour'] = hour_series\n",
    "# Isolate data for ratings submitted between 10PM and 5AM local time\n",
    "wee_hours_data = data[np.logical_or(data['hour']>= 22,data['hour']<=5)]\n",
    "\n",
    "# Determine the average ratings per title by gender during these late-night hours.\n",
    "wee_hours_mean_ratings = wee_hours_data.pivot_table('rating', index = 'title', columns = 'gender', aggfunc = np.mean)\n",
    "\n",
    "wee_hours_mean_ratings[:5]"
   ]
  },
  {
   "cell_type": "code",
   "execution_count": 284,
   "metadata": {
    "collapsed": false
   },
   "outputs": [
    {
     "name": "stdout",
     "output_type": "stream",
     "text": [
      "Correlation coefficient between averege male and female ratings between 10PM and 5AM: 0.6443696316466245\n"
     ]
    },
    {
     "data": {
      "text/html": [
       "<div>\n",
       "<table border=\"1\" class=\"dataframe\">\n",
       "  <thead>\n",
       "    <tr style=\"text-align: right;\">\n",
       "      <th>gender</th>\n",
       "      <th>F</th>\n",
       "      <th>M</th>\n",
       "    </tr>\n",
       "    <tr>\n",
       "      <th>title</th>\n",
       "      <th></th>\n",
       "      <th></th>\n",
       "    </tr>\n",
       "  </thead>\n",
       "  <tbody>\n",
       "    <tr>\n",
       "      <th>'burbs, The (1989)</th>\n",
       "      <td>2.956522</td>\n",
       "      <td>2.887097</td>\n",
       "    </tr>\n",
       "    <tr>\n",
       "      <th>10 Things I Hate About You (1999)</th>\n",
       "      <td>3.693333</td>\n",
       "      <td>3.392857</td>\n",
       "    </tr>\n",
       "    <tr>\n",
       "      <th>101 Dalmatians (1961)</th>\n",
       "      <td>3.780000</td>\n",
       "      <td>3.540984</td>\n",
       "    </tr>\n",
       "    <tr>\n",
       "      <th>101 Dalmatians (1996)</th>\n",
       "      <td>3.216216</td>\n",
       "      <td>2.866667</td>\n",
       "    </tr>\n",
       "    <tr>\n",
       "      <th>12 Angry Men (1957)</th>\n",
       "      <td>4.218750</td>\n",
       "      <td>4.307692</td>\n",
       "    </tr>\n",
       "  </tbody>\n",
       "</table>\n",
       "</div>"
      ],
      "text/plain": [
       "gender                                    F         M\n",
       "title                                                \n",
       "'burbs, The (1989)                 2.956522  2.887097\n",
       "10 Things I Hate About You (1999)  3.693333  3.392857\n",
       "101 Dalmatians (1961)              3.780000  3.540984\n",
       "101 Dalmatians (1996)              3.216216  2.866667\n",
       "12 Angry Men (1957)                4.218750  4.307692"
      ]
     },
     "execution_count": 284,
     "metadata": {},
     "output_type": "execute_result"
    }
   ],
   "source": [
    "#Calculate the correlation coefficient.\n",
    "print ('Correlation coefficient between averege male and female ratings between 10PM and 5AM: {0}'.format(\n",
    "    wee_hours_mean_ratings.M.corr(wee_hours_mean_ratings.F)))\n",
    "wee_hours_over_200_mean_ratings = wee_hours_mean_ratings.ix[active_titles]\n",
    "wee_hours_over_200_mean_ratings[:5]"
   ]
  },
  {
   "cell_type": "code",
   "execution_count": 283,
   "metadata": {
    "collapsed": false
   },
   "outputs": [
    {
     "data": {
      "text/plain": [
       "'Correlation coefficient between averege male and female ratings between 10PM and 5AM, among movies with at least 200 total ratings: 0.8654302643147277'"
      ]
     },
     "execution_count": 283,
     "metadata": {},
     "output_type": "execute_result"
    }
   ],
   "source": [
    "#Compute Correlation Coefficient\n",
    "'Correlation coefficient between averege male and female ratings between 10PM and 5AM, among movies with at least 200 total ratings: {0}'.format(wee_hours_over_200_mean_ratings.M.corr(wee_hours_over_200_mean_ratings.F))"
   ]
  },
  {
   "cell_type": "markdown",
   "metadata": {},
   "source": [
    "*------------------------\n",
    "\n",
    "# Problem 4: (20 points total)\n",
    "## Open Ended Question:  Business Intelligence"
   ]
  },
  {
   "cell_type": "markdown",
   "metadata": {},
   "source": [
    "* Do any of your conjectures in Problems 1, 2, and 3 provide insights that a movie company might be interested in?\n",
    "* Propose a business question that you think this data can answer.\n",
    "* Suppose you are a Data Sciencetist at a movie company.  **Convince your boss that your conjecture is correct!**"
   ]
  },
  {
   "cell_type": "code",
   "execution_count": 261,
   "metadata": {
    "collapsed": false
   },
   "outputs": [
    {
     "data": {
      "text/plain": [
       "Index(['user_id', 'movie_id', 'rating', 'timestamp', 'gender', 'age',\n",
       "       'occupation', 'zip', 'title', 'genres', 'Action', 'Adventure',\n",
       "       'Animation', 'Children's', 'Comedy', 'Crime', 'Documentary', 'Drama',\n",
       "       'Fantasy', 'Film-Noir', 'Horror', 'Musical', 'Mystery', 'Romance',\n",
       "       'Sci-Fi', 'Thriller', 'War', 'Western'],\n",
       "      dtype='object')"
      ]
     },
     "execution_count": 261,
     "metadata": {},
     "output_type": "execute_result"
    }
   ],
   "source": [
    "\n",
    "#Convert genres into 18 dummies. New dataset has total 100209 rows*28 columns \n",
    "\n",
    "#generate 18 dummies variables for movie genres\n",
    "genre_iter=(set(x.split('|')) for x in movies.genres)\n",
    "genres=sorted(set.union(*genre_iter))\n",
    "dummies=pd.DataFrame(np.zeros((len(movies), len(genres))), columns=genres)\n",
    "for i, gen in enumerate(movies.genres):\n",
    "    dummies.ix[i,gen.split('|')]=1\n",
    "movies_windic=movies.join(dummies)\n",
    "movies_windic.ix[0]\n",
    "\n",
    "# newdata has total 100209 rows 28 columns\n",
    "newdata = pd.merge(pd.merge(pd.merge(ratings,users),movies), movies_windic)\n",
    "newdata.columns"
   ]
  },
  {
   "cell_type": "code",
   "execution_count": 262,
   "metadata": {
    "collapsed": false
   },
   "outputs": [
    {
     "data": {
      "text/plain": [
       "<matplotlib.text.Text at 0x25644d96c50>"
      ]
     },
     "execution_count": 262,
     "metadata": {},
     "output_type": "execute_result"
    },
    {
     "data": {
      "image/png": "[encoded data removed]",
      "text/plain": [
       "<matplotlib.figure.Figure at 0x25646f470b8>"
      ]
     },
     "metadata": {},
     "output_type": "display_data"
    }
   ],
   "source": [
    "#How many movies for each genre are in this dataset?\n",
    "\n",
    "moviegenre=movies_windic\n",
    "moviegenre.drop(moviegenre[[0,1,2]],axis=1,inplace=True)\n",
    "moviegenre.sum().plot(kind='bar',color='g')\n",
    "plt.title('Number of Movies in Each Genre')"
   ]
  },
  {
   "cell_type": "code",
   "execution_count": 263,
   "metadata": {
    "collapsed": false
   },
   "outputs": [
    {
     "data": {
      "text/plain": [
       "<matplotlib.text.Text at 0x256411547f0>"
      ]
     },
     "execution_count": 263,
     "metadata": {},
     "output_type": "execute_result"
    },
    {
     "data": {
      "image/png": "[encoded data removed]",
      "text/plain": [
       "<matplotlib.figure.Figure at 0x2563d10c940>"
      ]
     },
     "metadata": {},
     "output_type": "display_data"
    }
   ],
   "source": [
    "#Total number of ratings received for each type of movie\n",
    "genres_rating_received=newdata\n",
    "genres_rating_received.drop(genres_rating_received.columns[[0,1,2,3,4,5,6,7,8,9]], axis=1, inplace=True)\n",
    "genres_rating_received.sum().plot(kind='bar')\n",
    "plt.title('Number of total ratings for Movies in each genre')"
   ]
  },
  {
   "cell_type": "code",
   "execution_count": 264,
   "metadata": {
    "collapsed": false
   },
   "outputs": [
    {
     "data": {
      "text/plain": [
       "Action         20209.249532\n",
       "Adventure       5915.839419\n",
       "Animation        709.389045\n",
       "Children's      2827.510300\n",
       "Comedy         66775.280899\n",
       "Crime           2619.093477\n",
       "Documentary      156.768102\n",
       "Drama          88687.575999\n",
       "Fantasy          385.216604\n",
       "Film-Noir        125.387640\n",
       "Horror          4088.701311\n",
       "Musical          738.882959\n",
       "Mystery          664.617353\n",
       "Romance        10843.216760\n",
       "Sci-Fi          6774.835206\n",
       "Thriller       14563.445693\n",
       "War             1529.238608\n",
       "Western          219.482522\n",
       "dtype: float64"
      ]
     },
     "execution_count": 264,
     "metadata": {},
     "output_type": "execute_result"
    }
   ],
   "source": [
    "average_ratings_genre = (genres_rating_received.sum())*moviegenre.sum()/sum(moviegenre.sum())\n",
    "average_ratings_genre"
   ]
  },
  {
   "cell_type": "code",
   "execution_count": 265,
   "metadata": {
    "collapsed": false
   },
   "outputs": [
    {
     "data": {
      "text/html": [
       "<div>\n",
       "<table border=\"1\" class=\"dataframe\">\n",
       "  <thead>\n",
       "    <tr style=\"text-align: right;\">\n",
       "      <th></th>\n",
       "      <th>total_gender_counts</th>\n",
       "      <th>comedy_gender_counts</th>\n",
       "      <th>comedy_gender_percent</th>\n",
       "    </tr>\n",
       "    <tr>\n",
       "      <th>gender</th>\n",
       "      <th></th>\n",
       "      <th></th>\n",
       "      <th></th>\n",
       "    </tr>\n",
       "  </thead>\n",
       "  <tbody>\n",
       "    <tr>\n",
       "      <th>F</th>\n",
       "      <td>246440</td>\n",
       "      <td>96271</td>\n",
       "      <td>0.390647</td>\n",
       "    </tr>\n",
       "    <tr>\n",
       "      <th>M</th>\n",
       "      <td>753769</td>\n",
       "      <td>260309</td>\n",
       "      <td>0.345343</td>\n",
       "    </tr>\n",
       "  </tbody>\n",
       "</table>\n",
       "</div>"
      ],
      "text/plain": [
       "        total_gender_counts  comedy_gender_counts  comedy_gender_percent\n",
       "gender                                                                  \n",
       "F                    246440                 96271               0.390647\n",
       "M                    753769                260309               0.345343"
      ]
     },
     "execution_count": 265,
     "metadata": {},
     "output_type": "execute_result"
    }
   ],
   "source": [
    "\n",
    "# Percent of movies watched by each gender classified as comedies\n",
    "genres = data['genres']\n",
    "all_genres = [string.split('|') for string in genres]\n",
    "comedy_truth =  [ 'Comedy' in genres for genres in all_genres]\n",
    "comedy_series = pd.DataFrame(comedy_truth, index=data.index)\n",
    "data['comedy'] = comedy_series\n",
    "\n",
    "comedy_data = data.ix[data['comedy'] == True]\n",
    "\n",
    "comedy_gender_counts = comedy_data.pivot_table('rating', index = 'gender', aggfunc = 'count')\n",
    "total_gender_counts = data.pivot_table('rating', index = 'gender', aggfunc = 'count')\n",
    "\n",
    "\n",
    "gender_counts = pd.concat([total_gender_counts,comedy_gender_counts],axis = 1)\n",
    "gender_counts.columns = ['total_gender_counts', 'comedy_gender_counts']\n",
    "gender_counts['comedy_gender_percent'] = gender_counts['comedy_gender_counts']/gender_counts['total_gender_counts']\n",
    "gender_counts"
   ]
  },
  {
   "cell_type": "code",
   "execution_count": 328,
   "metadata": {
    "collapsed": false
   },
   "outputs": [
    {
     "name": "stdout",
     "output_type": "stream",
     "text": [
      "occupation\n",
      "other                   3.492602\n",
      "academic/educator       3.519583\n",
      "artist                  3.504449\n",
      "clerical/admin          3.601516\n",
      "college/grad student    3.486563\n",
      "customer service        3.474962\n",
      "doctor/health care      3.585793\n",
      "executive/managerial    3.517354\n",
      "farmer                  3.481363\n",
      "homemaker               3.579862\n",
      "K-12 student            3.497200\n",
      "lawyer                  3.549694\n",
      "programmer              3.598924\n",
      "retired                 3.663825\n",
      "sales/marketing         3.553581\n",
      "scientist               3.687170\n",
      "self-employed           3.507570\n",
      "technician/engineer     3.581290\n",
      "tradesman/craftsman     3.445350\n",
      "unemployed              3.401392\n",
      "writer                  3.423004\n",
      "Name: rating, dtype: float64\n",
      "RANGE: 0.285778561855\n"
     ]
    },
    {
     "data": {
      "text/plain": [
       "<matplotlib.text.Text at 0x256483d47b8>"
      ]
     },
     "execution_count": 328,
     "metadata": {},
     "output_type": "execute_result"
    },
    {
     "data": {
      "image/png": "[encoded data removed]",
      "text/plain": [
       "<matplotlib.figure.Figure at 0x25609b54f60>"
      ]
     },
     "metadata": {},
     "output_type": "display_data"
    }
   ],
   "source": [
    "#Which occupation is most likely to enjoy a comedy?\n",
    "# histogram of occupation vs count of comedy ratings\n",
    "# Percent of movies watched by each gender classified as comedies\n",
    "genres = data['genres']\n",
    "all_genres = [string.split('|') for string in genres]\n",
    "comedy_truth =  [ 'Comedy' in genres for genres in all_genres]\n",
    "comedy_series = pd.DataFrame(comedy_truth, index=data.index)\n",
    "data['comedy'] = comedy_series\n",
    "\n",
    "comedy_data = data.ix[data['comedy'] == True]\n",
    "job_avg_ratings = comedy_data.pivot_table('rating', index='occupation', aggfunc=np.mean)\n",
    "job_avg_ratings.rename(index={0:'other', 1:'academic/educator',2: 'artist',3: 'clerical/admin',4: 'college/grad student',\n",
    "                                  5: 'customer service',6: 'doctor/health care',7:'executive/managerial',8:'farmer',\n",
    "                                  9: 'homemaker',10: 'K-12 student',11: 'lawyer',12 :'programmer',13: 'retired',\n",
    "                                  14:'sales/marketing',15:'scientist',16: 'self-employed',17: 'technician/engineer',\n",
    "                                  18: 'tradesman/craftsman',19 :'unemployed',20: 'writer'}, inplace=True)\n",
    "print (job_avg_ratings)\n",
    "print (\"RANGE: %s\" % (job_avg_ratings.max() - job_avg_ratings.min()))\n",
    "job_avg_ratings.plot(kind='bar', color='#00b27f')\n",
    "plt.title('Average Comedy Rating vs. Occupation')\n",
    "plt.xlabel('Occupation')\n",
    "plt.ylabel('Average Rating')"
   ]
  },
  {
   "cell_type": "code",
   "execution_count": 271,
   "metadata": {
    "collapsed": false
   },
   "outputs": [
    {
     "name": "stdout",
     "output_type": "stream",
     "text": [
      "occupation\n",
      "other                   46500\n",
      "academic/educator       29949\n",
      "artist                  17982\n",
      "clerical/admin          11870\n",
      "college/grad student    48672\n",
      "customer service         7908\n",
      "doctor/health care      13148\n",
      "executive/managerial    35784\n",
      "farmer                    939\n",
      "homemaker                5065\n",
      "K-12 student             9465\n",
      "lawyer                   7526\n",
      "programmer              19697\n",
      "retired                  4340\n",
      "sales/marketing         17898\n",
      "scientist                7771\n",
      "self-employed           15787\n",
      "technician/engineer     24554\n",
      "tradesman/craftsman      4172\n",
      "unemployed               5461\n",
      "writer                  22092\n",
      "Name: title, dtype: int64\n"
     ]
    },
    {
     "data": {
      "text/plain": [
       "<matplotlib.text.Text at 0x25612730400>"
      ]
     },
     "execution_count": 271,
     "metadata": {},
     "output_type": "execute_result"
    },
    {
     "data": {
      "image/png": "[encoded data removed]",
      "text/plain": [
       "<matplotlib.figure.Figure at 0x256757a5a20>"
      ]
     },
     "metadata": {},
     "output_type": "display_data"
    }
   ],
   "source": [
    "job_total_comedy_ratings = comedy_data.pivot_table('title', index='occupation', aggfunc='count')\n",
    "job_total_comedy_ratings.rename(index={0:'other', 1:'academic/educator',2: 'artist',3: 'clerical/admin',4: 'college/grad student',\n",
    "                                  5: 'customer service',6: 'doctor/health care',7:'executive/managerial',8:'farmer',\n",
    "                                  9: 'homemaker',10: 'K-12 student',11: 'lawyer',12 :'programmer',13: 'retired',\n",
    "                                  14:'sales/marketing',15:'scientist',16: 'self-employed',17: 'technician/engineer',\n",
    "                                  18: 'tradesman/craftsman',19 :'unemployed',20: 'writer'}, inplace=True)\n",
    "print (job_total_comedy_ratings)\n",
    "job_total_comedy_ratings.plot(kind='bar', color='#ec971f')\n",
    "plt.title('Comedies Rated vs. Occupation')\n",
    "plt.xlabel('Occupation')\n",
    "plt.ylabel('Number of Ratings')"
   ]
  },
  {
   "cell_type": "code",
   "execution_count": 329,
   "metadata": {
    "collapsed": false
   },
   "outputs": [
    {
     "data": {
      "text/plain": [
       "<matplotlib.text.Text at 0x256177d56a0>"
      ]
     },
     "execution_count": 329,
     "metadata": {},
     "output_type": "execute_result"
    },
    {
     "data": {
      "image/png": "[encoded data removed]",
      "text/plain": [
       "<matplotlib.figure.Figure at 0x2560fc62748>"
      ]
     },
     "metadata": {},
     "output_type": "display_data"
    }
   ],
   "source": [
    "job_total_ratings = data.pivot_table('title', index='occupation', aggfunc='count')\n",
    "job_total_ratings.rename(index={0:'other', 1:'academic/educator',2: 'artist',3: 'clerical/admin',4: 'college/grad student',\n",
    "                                  5: 'customer service',6: 'doctor/health care',7:'executive/managerial',8:'farmer',\n",
    "                                  9: 'homemaker',10: 'K-12 student',11: 'lawyer',12 :'programmer',13: 'retired',\n",
    "                                  14:'sales/marketing',15:'scientist',16: 'self-employed',17: 'technician/engineer',\n",
    "                                  18: 'tradesman/craftsman',19 :'unemployed',20: 'writer'}, inplace=True)\n",
    "\n",
    "job_percent_comedy_ratings = job_total_comedy_ratings / job_total_ratings\n",
    "job_percent_comedy_ratings.plot(kind='bar', color='#E50E14')\n",
    "plt.title('Percent Comedies vs. Occupation')\n",
    "plt.xlabel('Occupation')\n",
    "plt.ylabel('Percent of all movies watched')"
   ]
  },
  {
   "cell_type": "code",
   "execution_count": 275,
   "metadata": {
    "collapsed": false
   },
   "outputs": [
    {
     "data": {
      "text/plain": [
       "<matplotlib.text.Text at 0x25608982438>"
      ]
     },
     "execution_count": 275,
     "metadata": {},
     "output_type": "execute_result"
    },
    {
     "data": {
      "image/png": "[encoded data removed]",
      "text/plain": [
       "<matplotlib.figure.Figure at 0x2564318a7b8>"
      ]
     },
     "metadata": {},
     "output_type": "display_data"
    }
   ],
   "source": [
    "#What age group watches the most adventure movies?\n",
    "# histogram of age group vs adventure genre\n",
    "genres = data['genres']\n",
    "all_genres = [string.split('|') for string in genres]\n",
    "adventure_truth =  [ 'adventure' in genres for genres in all_genres]\n",
    "adventure_series = pd.DataFrame(drama_truth, index=data.index)\n",
    "data['adventure'] = adventure_series\n",
    "\n",
    "adventure_data = data.ix[data['adventure'] == True]\n",
    "adventure_ratings_per_age = adventure_data.pivot_table('title', index='age', columns='gender', aggfunc='count')\n",
    "adventure_ratings_per_age.rename(index={1: 'Under 18', 18: '18-24', 25: '25-34', 35: '35-44',\n",
    "                                        45: '45-49', 50: '50-55', 56: '56+'}, inplace=True)\n",
    "adventure_ratings_per_age.plot(kind='bar', color=['#E50E14','#5898f1'])\n",
    "plt.legend(bbox_to_anchor=(1.05, 1), loc=2, borderaxespad=0.)\n",
    "plt.title('Adventure Movies Rated per Age Group')\n",
    "plt.xlabel('Age Group')\n",
    "plt.ylabel('Count')"
   ]
  },
  {
   "cell_type": "code",
   "execution_count": 276,
   "metadata": {
    "collapsed": false
   },
   "outputs": [
    {
     "data": {
      "text/plain": [
       "<matplotlib.text.Text at 0x256096b55f8>"
      ]
     },
     "execution_count": 276,
     "metadata": {},
     "output_type": "execute_result"
    },
    {
     "data": {
      "image/png": "[encoded data removed]",
      "text/plain": [
       "<matplotlib.figure.Figure at 0x25609b2ff60>"
      ]
     },
     "metadata": {},
     "output_type": "display_data"
    }
   ],
   "source": [
    "total_per_age = data.pivot_table('title', index='age', columns='gender', aggfunc='count')\n",
    "total_per_age.rename(index={1: 'Under 18', 18: '18-24', 25: '25-34', 35: '35-44',\n",
    "                                        45: '45-49', 50: '50-55', 56: '56+'}, inplace=True)\n",
    "adventure_percent = adventure_ratings_per_age / total_per_age\n",
    "adventure_percent.plot(kind='bar', color=['#E50E14','#5898f1'])\n",
    "plt.legend(bbox_to_anchor=(1.05, 1), loc=2, borderaxespad=0.)\n",
    "plt.title('Percent Adventure Movies per Age Group')\n",
    "plt.xlabel('Age Group')\n",
    "plt.ylabel('Percent')"
   ]
  },
  {
   "cell_type": "code",
   "execution_count": 278,
   "metadata": {
    "collapsed": false
   },
   "outputs": [
    {
     "name": "stdout",
     "output_type": "stream",
     "text": [
      "gender        F       M\n",
      "age                    \n",
      "Under 18   2671    4812\n",
      "18-24     15977   42127\n",
      "25-34     37052  101643\n",
      "35-44     19239   52351\n",
      "45-49     10287   21854\n",
      "50-55      8237   21010\n",
      "56+        4690   12579\n",
      "gender        F       M\n",
      "age                    \n",
      "Under 18   8827   18384\n",
      "18-24     45427  138109\n",
      "25-34     91340  304216\n",
      "35-44     49473  149530\n",
      "45-49     24110   59523\n",
      "50-55     18064   54426\n",
      "56+        9199   29581\n",
      "gender           F         M\n",
      "age                         \n",
      "Under 18  0.302594  0.261749\n",
      "18-24     0.351707  0.305027\n",
      "25-34     0.405649  0.334115\n",
      "35-44     0.388879  0.350104\n",
      "45-49     0.426669  0.367152\n",
      "50-55     0.455990  0.386029\n",
      "56+       0.509838  0.425239\n"
     ]
    }
   ],
   "source": [
    "print (adventure_ratings_per_age)\n",
    "print (total_per_age)\n",
    "print (adventure_percent)"
   ]
  },
  {
   "cell_type": "code",
   "execution_count": null,
   "metadata": {
    "collapsed": true
   },
   "outputs": [],
   "source": []
  },
  {
   "cell_type": "markdown",
   "metadata": {},
   "source": [
    "# Report: communicate the results (20 points)\n",
    "\n",
    "(1) (5 points) What data you collected?\n",
    "\n",
    "(2) (5 points) Why this topic is interesting or important to you? (Motivations)\n",
    "\n",
    "(3) (5 points) How did you analyse the data?\n",
    "\n",
    "(4) (5 points) What did you find in the data?\n",
    "(please include figures or tables in the report, but no source code)"
   ]
  },
  {
   "cell_type": "markdown",
   "metadata": {},
   "source": [
    "# Slides (for 10 minutes of presentation) (20 points)\n",
    "\n",
    "\n",
    "1. (5 points) Motivation about the data collection, why the topic is interesting to you. \n",
    "\n",
    "2. (10 points) Communicating Results (figure/table)\n",
    "\n",
    "3. (5 points) Story telling (How all the parts (data, analysis, result) fit together as a story?)"
   ]
  },
  {
   "cell_type": "markdown",
   "metadata": {},
   "source": [
    "*-----------------\n",
    "# Done\n",
    "\n",
    "All set! \n",
    "\n",
    "** What do you need to submit?**\n",
    "\n",
    "* **Notebook File**: Save this IPython notebook, and find the notebook file in your folder (for example, \"filename.ipynb\"). This is the file you need to submit. Please make sure all the plotted tables and figures are in the notebook. If you used \"ipython notebook --pylab=inline\" to open the notebook, all the figures and tables should have shown up in the notebook.\n",
    "\n",
    "\n",
    "* **PPT Slides**: please prepare PPT slides (for 10 minutes' talk) to present about the case study . We will ask two teams which are randomly selected to present their case studies in class for this case study. \n",
    "\n",
    "* ** Report**: please prepare a report (less than 10 pages) to report what you found in the data.\n",
    "    * What is the relationship between this topic and Business Intelligence?\n",
    "    * How did you analyse the data?\n",
    "    * What did you find in the data? \n",
    "    * What conjectures did you make and how did you support or disprove them using data?\n",
    "    * Did you find anything suprising in the data?\n",
    "    * What business decision do you think this data could help answer?  Why?\n",
    "\n",
    "     (please include figures or tables in the report, **but no source code**)\n",
    "\n",
    "*Please compress all the files into a single zipped file.*\n",
    "\n",
    "\n",
    "** How to submit: **\n",
    "\n",
    "        Send an email to rcpaffenroth@wpi.edu and wliu3@wpi.edu with the subject: \"[DS501] Case study 2-TEAM NUMBER ???\"."
   ]
  },
  {
   "cell_type": "code",
   "execution_count": null,
   "metadata": {
    "collapsed": false
   },
   "outputs": [],
   "source": []
  }
 ],
 "metadata": {
  "anaconda-cloud": {},
  "kernelspec": {
   "display_name": "Python [Root]",
   "language": "python",
   "name": "Python [Root]"
  },
  "language_info": {
   "codemirror_mode": {
    "name": "ipython",
    "version": 3
   },
   "file_extension": ".py",
   "mimetype": "text/x-python",
   "name": "python",
   "nbconvert_exporter": "python",
   "pygments_lexer": "ipython3",
   "version": "3.5.2"
  }
 },
 "nbformat": 4,
 "nbformat_minor": 0
}
