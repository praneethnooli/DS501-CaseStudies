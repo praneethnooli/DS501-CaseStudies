{
 "cells": [
  {
   "cell_type": "markdown",
   "metadata": {},
   "source": [
    "### Case Study 4 :  Data Science Shark Tank:  Pitch Your Ideas\n",
    "\n",
    "** Due Date: December 8, 6pm**\n",
    "<img src=\"https://cp.inkrefuge.com/images%5Cpressreleases/shark%20tank_large.jpg\" width=\"400px\"> "
   ]
  },
  {
   "cell_type": "markdown",
   "metadata": {},
   "source": [
    "After the previous 3 case studies,  your team has now equipped with all the three powerful skills of data science: Hacking skill, Business skill and Math skill. In this project, your team is going to make use of these skills to come up with an idea of a new business/startup based upon data science technology. Your goal is to design a better service/solution on any data you like, develop a prototype/demo and prepare a pitch for your idea.\n",
    "* Your team needs to decide which business problem is important for the market you are joining in (for example, social media market, housing market, search market, etc.).\n",
    "* Then design a data science approach to improve one of the current services or design a new service on any data that you choose.\n",
    "* The solution should include all the three components of data science: 1) the business part to analyze the potential impact of your new/improved service, why the idea can make money, how much are you evaluating the company; How are you planing to persuade the sharks to invest in your business; 2) the mathematical part to formulate the problem and develop math solution; 3) the programming part to collect the data, implement the math solution, and develop the prototype/demo.\n"
   ]
  },
  {
   "cell_type": "markdown",
   "metadata": {},
   "source": [
    "# Background about Elevator Pitch (90 seconds) and Shark Tank"
   ]
  },
  {
   "cell_type": "code",
   "execution_count": 1,
   "metadata": {
    "collapsed": false
   },
   "outputs": [
    {
     "data": {
      "image/jpeg": "[encoded data removed]",
      "text/html": [
       "\n",
       "        <iframe\n",
       "            width=\"400\"\n",
       "            height=\"300\"\n",
       "            src=\"https://www.youtube.com/embed/mrSmaCo29U4\"\n",
       "            frameborder=\"0\"\n",
       "            allowfullscreen\n",
       "        ></iframe>\n",
       "        "
      ],
      "text/plain": [
       "<IPython.lib.display.YouTubeVideo at 0x2066c44ae48>"
      ]
     },
     "execution_count": 1,
     "metadata": {},
     "output_type": "execute_result"
    }
   ],
   "source": [
    "from IPython.display import YouTubeVideo\n",
    "YouTubeVideo(\"mrSmaCo29U4\") "
   ]
  },
  {
   "cell_type": "code",
   "execution_count": 2,
   "metadata": {
    "collapsed": false
   },
   "outputs": [
    {
     "data": {
      "image/jpeg": "[encoded data removed]",
      "text/html": [
       "\n",
       "        <iframe\n",
       "            width=\"400\"\n",
       "            height=\"300\"\n",
       "            src=\"https://www.youtube.com/embed/xIq8Sg59UdY\"\n",
       "            frameborder=\"0\"\n",
       "            allowfullscreen\n",
       "        ></iframe>\n",
       "        "
      ],
      "text/plain": [
       "<IPython.lib.display.YouTubeVideo at 0x2066c467080>"
      ]
     },
     "execution_count": 2,
     "metadata": {},
     "output_type": "execute_result"
    }
   ],
   "source": [
    "YouTubeVideo(\"xIq8Sg59UdY\") "
   ]
  },
  {
   "cell_type": "markdown",
   "metadata": {},
   "source": [
    "### Two videos on storytelling"
   ]
  },
  {
   "cell_type": "markdown",
   "metadata": {},
   "source": [
    "https://video.wpi.edu/Watch/g2T4NjBn"
   ]
  },
  {
   "cell_type": "markdown",
   "metadata": {},
   "source": [
    "https://video.wpi.edu/Watch/q2A6Dbg3"
   ]
  },
  {
   "cell_type": "markdown",
   "metadata": {},
   "source": [
    "\n",
    "**Optional Readings:** \n",
    "* LinkedIn API: https://developer.linkedin.com/docs/rest-api\n",
    "* Zillow API: https://pypi.python.org/pypi/pyzillow\n",
    "* Google Map API: https://developers.google.com/api-client-library/python/apis/mapsengine/v1?hl=en\n",
    "* More APIs: https://github.com/ptwobrussell/Mining-the-Social-Web-2nd-Edition\n",
    "\n",
    "\n",
    "** Python libraries you may want to use:**\n",
    "* Scikit-learn (http://scikit-learn.org): machine learning tools in Python.\n",
    "\n",
    "** Data sources:**\n",
    "* UCI Machine Learning Repository: http://archive.ics.uci.edu/ml/ \n",
    "* Statlib datasets: http://lib.stat.cmu.edu/\n",
    "* Kaggel: www.kaggle.com \n",
    "* Open Gov. Data: www.data.gov, www.data.gov.uk, www.data.gov.fr, http://opengovernmentdata.org/data/catalogues/   \n",
    "\n",
    "** NOTE **\n",
    "* Please don't forget to save the notebook frequently when working in IPython Notebook, otherwise the changes you made can be lost.\n",
    "\n",
    "*----------------------"
   ]
  },
  {
   "cell_type": "markdown",
   "metadata": {},
   "source": [
    "## Too good to be true. Spot deceptive positive restaurants reviews in Yelp."
   ]
  },
  {
   "cell_type": "markdown",
   "metadata": {},
   "source": [
    "### Problem 1: the Business Part (20 points)\n",
    " As a group, learn about the data science related business and research about the current markets: such as search, social media, advertisement, recommendation and so on.\n",
    "Pick one of the markets for further consideration, and design a new service  which you believe to be important in the market. \n",
    "Define precisely in the report and briefly in the cells below, what is the business problem that your team wants to solve.\n",
    "Why the problem is important to solve? \n",
    "Why you believe you could make a big difference with data science technology.\n",
    "How are you planing to persuade the investors to buy in your idea."
   ]
  },
  {
   "cell_type": "markdown",
   "metadata": {},
   "source": [
    "**Please describe here *briefly*  (please edit this cell)**\n",
    "\n",
    "1) Your business problem to solve:\n",
    "\n",
    "User-generated online reviews can play a significant role in the success of retail products, hospitals, restaurants, etc. However, review systems are often targeted by opinion spammers who seek to distort the perceived quality of a product by creating fraudulent reviews. In recent years, fake review detection has attracted significant attention from both businesses and the research community. We propose a fast and effective framework known as “Spot.It” in order to detect the fake positive reviews.\n",
    "\n",
    "\n",
    "2) Why the problem is important to solve? \n",
    "\n",
    "According to a report of a survey sent to WPI CS/DS graduate students, over 30% of the participant admit that they were victim of deceptive reviews. "
   ]
  },
  {
   "cell_type": "markdown",
   "metadata": {},
   "source": [
    "<img src=\"survey Q-1.png\">"
   ]
  },
  {
   "cell_type": "markdown",
   "metadata": {},
   "source": [
    "In the past few years, the problem of spam or fake reviews has become widespread, and many high-profile cases have been reported in the news. Consumer sites have even put together many clues for people to manually spot fake reviews. There have also been media investigations where fake reviewers blatantly admit to have been paid to write fake reviews.\n",
    "  For reviews to reflect genuine user experiences and opinions, detecting fake reviews is an important problem.\n",
    "\n",
    "3) What is your idea to solve the problem? \n",
    "\n",
    "A research article by Cornell university states that human suffers from a “truth bias”, assuming that what they are reading is true until they find evidence to the contrary. When people are trained at detecting deception they become overly skeptical and report deception too often, still scoring at chance levels. Truth-tellers and deceivers differ in the use of keywords referring to human behavior and personal life, and sometimes in features like the amount of punctuation or frequency of \"large words.\" In parallel with the analysis of imaginative vs. informative writing, deceivers use more verbs and truth-tellers use more nouns.\n",
    "\n",
    "We have tested this claim by surveying WPI, CS/DS graduate student. Survey includes true reviews taken from high-rating business and trusted user, and fake, deceptive reviews written by turkers from www.mturk.com. In the survey we have included 3 reviews and asked the users to classify them as a true review or deceptive one. From the reults\n",
    ". 85% of the participants classified the given true review correctly\n",
    ". When it comes to deceptive reviews, the result was surprising! 67.6% and 47.3% of participants classified the given two fake-deceptive review as real one respectively.\n"
   ]
  },
  {
   "cell_type": "markdown",
   "metadata": {},
   "source": [
    "<img src=\"survey Q-2.png\">"
   ]
  },
  {
   "cell_type": "markdown",
   "metadata": {},
   "source": [
    "This opens the door to develop a general, deceptive ranking solution to detect deceptive reviews based on the text analysis itself regardless of the website using the features\n",
    "\n",
    "4) What differences you could make with your data science approach?\n",
    "\n",
    "Several research papers and the survey we conducted pose a very interesting question- “Are computers better than Humans in detecting deceptive reviews?” and results prove the claim that humans suffer from truth bias. Even though we deal with natural language problem of classifying short reviews, which in theory, trivial for humans but difficult to computers, The survey shows that well training data based solution would beat human ability to detect deceptive text. The mentioned research suggested that computers would be able to reach high accuracy in text based solution. \n",
    "In addition to the general-text-based solution. The specific anomaly detection solution introduce analyzing a lot of parameters and metadata that can’t be done without data-science techniques. \n",
    "\n",
    "5) Why do you believe the idea deserves the investment of the \"sharks\"?"
   ]
  },
  {
   "cell_type": "markdown",
   "metadata": {},
   "source": [
    "<img src=\"survey Q-3.png\">"
   ]
  },
  {
   "cell_type": "markdown",
   "metadata": {},
   "source": [
    "Following the above survey result, 86.5% shown interest in a solution that could automatically spot deceptive reviews from them. This clearly shows the public concern from being scammed by deceptive-positive reviews. \n",
    "Based on what we see that this product would drive value for large number of population, in addition to the end-user target, like - businesses that share user’s capacity to other users (Peer-to-Peer). E.g. - Airbnb, Turo are based on peer-to-peer reviews and trust, a solution to automatically detect deceptive reviews could be a core of interest to this rapid-growing market.\n",
    "\n",
    "In addition, the same technique used in our product could be tuned to different sectors with high growth potential. such as detecting fake news, rumors in social media.\n"
   ]
  },
  {
   "cell_type": "markdown",
   "metadata": {},
   "source": [
    "### Problem 2: The Math Part (20 points)"
   ]
  },
  {
   "cell_type": "markdown",
   "metadata": {},
   "source": [
    "Define the business problem as a math problem and design a math solution to the problem.\n"
   ]
  },
  {
   "cell_type": "markdown",
   "metadata": {},
   "source": [
    "\n",
    "\n",
    "\n",
    "\n",
    "\n",
    "\n",
    "\n",
    "\n",
    "\n",
    "\n",
    "\n",
    "\n",
    "\n",
    "\n",
    "\n"
   ]
  },
  {
   "cell_type": "markdown",
   "metadata": {
    "collapsed": false
   },
   "source": [
    "**1) Problem formulation in Math:**\n",
    "\n",
    "Features from the text classifiers, ngram(1,3), plus features which differentiates informative writing and imaginative writing, (ratio of verbs, nouns, punctuations) are used to train support vector machine classifier which have performed well in document classification problems. \n",
    "\n",
    "For simplicity, we train the system using linear-SVM which learn a weight vector W and bias term b such that a review X can be classified.\n",
    "\n",
    " \n",
    "**Math and motivations behind the specfic 2 steps solution, anomaly detection followed by text based classification method:**\n",
    "\n",
    "The motivations of using 2 step approach are:\n",
    "\n",
    "Not a simple outlier detector - Basing the solution to detect outliers on the metadata only would result in having high rate of false positive, These outliers could be legal users/ Businesses. For example new user/business, user has small number of reviews, very popular businesses that have high-rate of positive reviews and so. \n",
    "\n",
    "Not a text based analysis only - Having base of the solution on text analysis only would neglect many features that are very helpful to detect deceptive reviews. Such as the average rate of reviews of the specific user, number of online friends/followers the user have and so on. The research proves that text based analysis could reach high rate of 90% accuracy, but the problem is that the mechanical turks can be also get advanced as the text based filter get advanced., The current situation is that most deceptive reviews can be detected using the differentiation between informative v.s imaginative. But if the solution is only based on this fact, the mechanical turk can easily bypass by writing reviews using informative style, less large word or maybe be copying legal, real reviews that the algorithm detect as real and use them with small tuning to review other businesses.  The anomaly detection step would prevent such problem.\n",
    "\n",
    "**2) Math Solution:**\n",
    "\n",
    "Below is the mathematical representation of the solution.\n",
    "\n",
    "<img src=\"math.png\">\n",
    "\n",
    "For the anomaly detection step we use the Elliptic Envelope algorithm. It is logical to consider the legal user behaviours having similarities that could be gather them in one region, other methods like One-class SVM which is a novelty checker and require a pure data or Isolation Forest which could result having the new users as who give single reviews as “legal forest”. While we want to detect these users as outliers, it doesn’t mean we automatically classify their reviews as deceptive. We intentionally allow some false-positives in this phase as the result will be refined using text based analysis.For that we choose the Elliptic Envelope rather than Isolation Forest and One-class SVM."
   ]
  },
  {
   "cell_type": "markdown",
   "metadata": {},
   "source": [
    "<img src=\"math2.png\">"
   ]
  },
  {
   "cell_type": "markdown",
   "metadata": {},
   "source": [
    "\n",
    "**3) Implementation of the Solution:**\n",
    "\n",
    "**Math part is implemented along with the Hacking part**"
   ]
  },
  {
   "cell_type": "markdown",
   "metadata": {},
   "source": [
    "### Problem 3: The Hacking Part  (20 points)\n"
   ]
  },
  {
   "cell_type": "markdown",
   "metadata": {},
   "source": [
    "* Data Collection\n",
    "* Implement a small Demo/Prototype/experiment result figures for the \"product\" of your data science company. You could use this demo during the Pitch"
   ]
  },
  {
   "cell_type": "code",
   "execution_count": 23,
   "metadata": {
    "collapsed": false,
    "scrolled": true
   },
   "outputs": [],
   "source": [
    "# Global Import\n",
    "from sklearn.feature_extraction.text import TfidfVectorizer\n",
    "from sklearn.svm import LinearSVC\n",
    "from sklearn.datasets import load_files\n",
    "from sklearn.model_selection import train_test_split\n",
    "from sklearn import metrics\n",
    "import pandas as pd\n",
    "import matplotlib.pylab as py\n",
    "import matplotlib.pyplot as plt\n",
    "from IPython.display import HTML\n",
    "from datetime import datetime, date, time\n",
    "from sklearn.svm import LinearSVC\n",
    "import re\n",
    "import numpy\n",
    "\n",
    "import json\n",
    "%matplotlib inline\n"
   ]
  },
  {
   "cell_type": "code",
   "execution_count": 5,
   "metadata": {
    "collapsed": true
   },
   "outputs": [],
   "source": [
    "dataset = load_files('restaurants', encoding='utf-8', decode_error='replace',shuffle=False)\n",
    "dataset_df = pd.DataFrame(dataset.data)"
   ]
  },
  {
   "cell_type": "markdown",
   "metadata": {
    "collapsed": false
   },
   "source": [
    "** Extract features **\n",
    "\n",
    "Some online reviews are too good to be true; Cornell computers spot 'opinion spam'\n",
    "http://bit.ly/2g6ou9X \n",
    "\n",
    "according to the article above, \"Truth-tellers and deceivers differ in the use of keywords referring to human behavior and personal life, and sometimes in features like the amount of punctuation or frequency of \"large words.\" In parallel with previous analysis of imaginative vs. informative writing, deceivers use more verbs and truth-tellers use more nouns.\"\n",
    "\n",
    "Featuers to extract from the text - use in the text classification part.:\n",
    "\n",
    "* amount of punctuation\n",
    "\n",
    "* total verbs  - total nouns\n",
    "\n",
    "* length of the review.\n"
   ]
  },
  {
   "cell_type": "code",
   "execution_count": 6,
   "metadata": {
    "collapsed": true
   },
   "outputs": [],
   "source": [
    "from string import punctuation\n",
    "import nltk\n",
    "\n",
    "def extract_content_based_features(input_data): \n",
    "    length = [len(data) for data in input_data]\n",
    "    tokens = [nltk.word_tokenize(data) for data in input_data]\n",
    "    taggeds = [nltk.pos_tag(token,tagset='universal') for token in tokens] \n",
    "    tag_fds = [nltk.FreqDist(tag for (word, tag) in tagged) for tagged in taggeds]\n",
    "    verb_minus_noun = [tag_fd['VERB'] - tag_fd['NOUN'] for tag_fd in tag_fds]\n",
    "    punctuation_amount = [len(re.findall('['+punctuation+']', data)) for data in input_data]\n",
    "    features = {'punctuation_amount': punctuation_amount,'verb_minus_noun': verb_minus_noun}\n",
    "    return pd.DataFrame(features)\n",
    "\n",
    "def extract_ngram_1_3_features(tfidVect,input_data):\n",
    "    XInput = TfidfVect.transform(input_data).toarray()\n",
    "    return pd.DataFrame(XInput)\n",
    "\n",
    "def extract_text_features(tfidVect, input_data):\n",
    "    df1= extract_content_based_features(input_data)\n",
    "    df2= extract_ngram_1_3_features(tfidVect,input_data)\n",
    "    ## extract_ngram (1 3) features\n",
    "    result = pd.concat([df1, df2], axis=1, join='inner')\n",
    "    return result"
   ]
  },
  {
   "cell_type": "code",
   "execution_count": 7,
   "metadata": {
    "collapsed": true
   },
   "outputs": [],
   "source": [
    "# define the TfidfVect. \n",
    "min_df=3\n",
    "max_df=0.96\n",
    "# ngram (1,3) gives better percsion than 1,2 and 1,4 doesn't improve accuracy. \n",
    "ngram_range = (1,3) \n",
    "TfidfVect= TfidfVectorizer(min_df = min_df, max_df = max_df, ngram_range = ngram_range)"
   ]
  },
  {
   "cell_type": "code",
   "execution_count": 8,
   "metadata": {
    "collapsed": false
   },
   "outputs": [
    {
     "name": "stdout",
     "output_type": "stream",
     "text": [
      "**Classification Report**\n",
      "\n",
      "             precision    recall  f1-score   support\n",
      "\n",
      "  deceptive       0.82      0.95      0.88        19\n",
      "   truthful       0.95      0.82      0.88        22\n",
      "\n",
      "avg / total       0.89      0.88      0.88        41\n",
      "\n",
      "**Confusion Matrix**\n",
      "\n",
      "[[18  1]\n",
      " [ 4 18]]\n"
     ]
    },
    {
     "data": {
      "image/png": "[encoded data removed]",
      "text/plain": [
       "<matplotlib.figure.Figure at 0x20672004898>"
      ]
     },
     "metadata": {},
     "output_type": "display_data"
    }
   ],
   "source": [
    "# split the dataset in training and test set:\n",
    "docs_train, docs_test, y_train, y_test = train_test_split(\n",
    "    dataset.data, dataset.target, test_size=0.10, random_state=None)\n",
    "\n",
    "TfidfVect.fit(docs_train)\n",
    "# define featuers from yelp user/business meta-data. \n",
    "\n",
    "Xtrain=extract_text_features(TfidfVect, docs_train)\n",
    "Xtest=extract_text_features(TfidfVect, docs_test)\n",
    "clf  = LinearSVC(C=100)\n",
    "clf.fit(Xtrain, y_train)\n",
    "y_predicted = clf.predict(Xtest)\n",
    "\n",
    "print(\"**Classification Report**\\n\")\n",
    "print(metrics.classification_report(y_test, y_predicted,target_names=dataset.target_names))\n",
    "print(\"**Confusion Matrix**\\n\")\n",
    "cm = metrics.confusion_matrix(y_test, y_predicted)\n",
    "print(cm)\n",
    "\n",
    "plt.matshow(cm)\n",
    "plt.show()"
   ]
  },
  {
   "cell_type": "markdown",
   "metadata": {},
   "source": [
    "** Load yelp data, train the anomaly detection step**"
   ]
  },
  {
   "cell_type": "code",
   "execution_count": 9,
   "metadata": {
    "collapsed": false
   },
   "outputs": [],
   "source": [
    "#reviews_file = 'mass_yelp_academic_dataset_resturants_reviews.json' \n",
    "reviews_file = 'mass_resturants_reviews.json'\n",
    "business_file = 'mass_yelp_academic_dataset_resturants_business.json'\n",
    "user_file = 'yelp_academic_dataset_user.json'\n",
    "\n",
    "reviews_df = pd.DataFrame([json.loads(line) for line in open(reviews_file)])\n",
    "business_df =  pd.DataFrame([json.loads(line) for line in open(business_file)])\n",
    "user_df =  pd.DataFrame([json.loads(line) for line in open(user_file)])"
   ]
  },
  {
   "cell_type": "markdown",
   "metadata": {},
   "source": [
    "## Implement specific yelp based version: Anomaly detection followed by text classifier\n"
   ]
  },
  {
   "cell_type": "markdown",
   "metadata": {},
   "source": [
    "For simplicity sake, the 1st phase will implementation will be limited to resturants reviews. and will work only on positive reviews, spot fake negative reviews and expanding to other categories are part of the next phase."
   ]
  },
  {
   "cell_type": "markdown",
   "metadata": {},
   "source": [
    "**Featuers to extract from the meta-data**\n",
    "\n",
    "* user_review_count\n",
    "* user_average_stars\n",
    "* user_Friends_count\n",
    "* Business_rate\n",
    "* Business_review_count\n"
   ]
  },
  {
   "cell_type": "code",
   "execution_count": 10,
   "metadata": {
    "collapsed": false
   },
   "outputs": [],
   "source": [
    "## prepare the metadata for merge. \n",
    "user_df.rename(columns={'review_count': 'user_review_count'}, inplace=True)\n",
    "business_df.rename(columns={'review_count': 'business_review_count','stars':'business_stars'}, inplace=True)\n",
    "\n",
    "## filter out negative or netural reviews, \n",
    "reviews_df=reviews_df[reviews_df['stars']>=4]"
   ]
  },
  {
   "cell_type": "code",
   "execution_count": 11,
   "metadata": {
    "collapsed": true
   },
   "outputs": [],
   "source": [
    "def extract_metadata_featuers(input_reviews):\n",
    "    #fill the user and buiness data from other data frames\n",
    "    merged_data=pd.concat([input_reviews,business_df, user_df], axis=1, join='inner')\n",
    "    # replace the list of friends with friends count.\n",
    "    merged_data['friends']  = merged_data['friends'].apply(lambda x: len(x))\n",
    "    # extract the interesting data only\n",
    "    return merged_data[['user_review_count','average_stars','friends','business_review_count','business_stars']]\n",
    "    "
   ]
  },
  {
   "cell_type": "code",
   "execution_count": 12,
   "metadata": {
    "collapsed": false
   },
   "outputs": [
    {
     "data": {
      "text/plain": [
       "EllipticEnvelope(assume_centered=False, contamination=0.15, random_state=None,\n",
       "         store_precision=True, support_fraction=None)"
      ]
     },
     "execution_count": 12,
     "metadata": {},
     "output_type": "execute_result"
    }
   ],
   "source": [
    "from sklearn.covariance import EllipticEnvelope\n",
    "# Now that we filter out the negative reviews and select the interesting featuers from user/business metadat, it is time\n",
    "# to train the outlier detector model. \n",
    "anomaly_detector = EllipticEnvelope(contamination=0.15)\n",
    "\n",
    "#ad_docs_train, ad_docs_test = train_test_split(df, test_size=0.10, random_state=None)\n",
    "anomaly_detector.fit(extract_metadata_featuers(reviews_df))"
   ]
  },
  {
   "cell_type": "markdown",
   "metadata": {},
   "source": [
    "** Now that we have two trained models, anomaly detector based on Yelp database and text classifer, It's time to put them togather as detector for Yelp reviews** "
   ]
  },
  {
   "cell_type": "markdown",
   "metadata": {},
   "source": [
    "** offline detector deals with review from yelp offline database json files ** "
   ]
  },
  {
   "cell_type": "code",
   "execution_count": 13,
   "metadata": {
    "collapsed": false
   },
   "outputs": [
    {
     "name": "stderr",
     "output_type": "stream",
     "text": [
      "C:\\Users\\yousef fadila\\Anaconda31\\lib\\site-packages\\sklearn\\covariance\\outlier_detection.py:97: FutureWarning: in the future, boolean array-likes will be handled as a boolean array index\n",
      "  is_inlier[values <= self.threshold_] = 1\n"
     ]
    },
    {
     "data": {
      "text/plain": [
       "[1, 1, 1]"
      ]
     },
     "execution_count": 13,
     "metadata": {},
     "output_type": "execute_result"
    }
   ],
   "source": [
    "def offline_outlier_detector_then_clf(input_data):\n",
    "    f = extract_metadata_featuers(input_data)\n",
    "    ad_result = anomaly_detector.predict(f)\n",
    "    Xinput=extract_text_features(TfidfVect, input_data['text'])\n",
    "    clf_result = clf.predict(Xtest)\n",
    "    return [clf_result if (ad_result==-1) else 1 for clf_result,ad_result in zip(clf_result,ad_result)]\n",
    "    \n",
    "offline_outlier_detector_then_clf(reviews_df[1:4])"
   ]
  },
  {
   "cell_type": "markdown",
   "metadata": {},
   "source": [
    "** online,real time detector gets input the business id, fretched first review using Yelp API and check real/fake using the 2 steps approach ** "
   ]
  },
  {
   "cell_type": "code",
   "execution_count": 45,
   "metadata": {
    "collapsed": false
   },
   "outputs": [],
   "source": [
    "from yelp.client import Client\n",
    "\n",
    "from yelp.oauth1_authenticator import Oauth1Authenticator\n",
    "\n",
    "auth = Oauth1Authenticator(\n",
    "    consumer_key='8hlSQUlXW2anOgx9Sg2dNA',\n",
    "    consumer_secret='9DeqoqhvnSxwbYLXJfLyZ8-oST8',\n",
    "    token='UT7aNiWwQq5bG_EMY9w8YwKRwcO7q9Ks',\n",
    "    token_secret='3Qzo0NBA1_8bCOLjgDr4lmLyi9c'\n",
    ")\n",
    "\n",
    "client = Client(auth)\n"
   ]
  },
  {
   "cell_type": "code",
   "execution_count": 46,
   "metadata": {
    "collapsed": false
   },
   "outputs": [
    {
     "data": {
      "text/plain": [
       "\"I've been meaning to stop here since I moved to the neighborhood over two years ago. I finally had the chance yesterday and it FAR exceeded my expectations....\""
      ]
     },
     "execution_count": 46,
     "metadata": {},
     "output_type": "execute_result"
    }
   ],
   "source": [
    "# test, fetch shawarma-palace-worcester first review.\n",
    "params = {\n",
    "    'lang': 'en'\n",
    "}\n",
    "\n",
    "response=client.get_business('shawarma-palace-worcester', **params)\n",
    "pd.DataFrame(response.business.reviews)\n",
    "response.business.reviews[0].excerpt"
   ]
  },
  {
   "cell_type": "code",
   "execution_count": 73,
   "metadata": {
    "collapsed": false
   },
   "outputs": [],
   "source": [
    "def online_detector_using_rest_api(business_id):\n",
    "    response=client.get_business(business_id, **params)\n",
    "    business_review_count = response.business.review_count\n",
    "    business_stars = response.business.rating\n",
    "    text=response.business.reviews[0].excerpt\n",
    "    rating=response.business.reviews[0].rating\n",
    "    # YELP doesn't allow fetching user friends count,review_count, use 1, later use CRAWL to get that number from html page,.\n",
    "    count = 1\n",
    "    data = {'user_review_count' :[count,0], 'average_stars':[rating,0],'friends':[count,0],'business_review_count':[business_review_count,0],'business_stars':[business_stars,0]}\n",
    "    featuers_=pd.DataFrame(d)\n",
    "    #featuers_=pd.DataFrame([[count,rating,count,business_review_count,business_stars]],columns=['user_review_count','average_stars','friends','business_review_count','business_stars'])    \n",
    "    ad_result = anomaly_detector.predict(featuers_)\n",
    "    # if not outlier, return real\n",
    "    if ad_result[0]==1:\n",
    "        return \"truthful\"\n",
    "    else:\n",
    "        # Outlier, check using text classifer. \n",
    "        #vectorize the review text.\n",
    "        Xinput_=extract_text_features(TfidfVect, [text])\n",
    "        clf_result = clf.predict(Xinput_)\n",
    "        return \"truthful\" if clf_result[0]==1 else \"deceptive\""
   ]
  },
  {
   "cell_type": "code",
   "execution_count": 74,
   "metadata": {
    "collapsed": false
   },
   "outputs": [
    {
     "name": "stderr",
     "output_type": "stream",
     "text": [
      "C:\\Users\\yousef fadila\\Anaconda31\\lib\\site-packages\\sklearn\\covariance\\outlier_detection.py:97: FutureWarning: in the future, boolean array-likes will be handled as a boolean array index\n",
      "  is_inlier[values <= self.threshold_] = 1\n"
     ]
    },
    {
     "data": {
      "text/plain": [
       "'truthful'"
      ]
     },
     "execution_count": 74,
     "metadata": {},
     "output_type": "execute_result"
    }
   ],
   "source": [
    "online_detector_using_rest_api('shawarma-palace-worcester')"
   ]
  },
  {
   "cell_type": "markdown",
   "metadata": {},
   "source": [
    "### Public API\n"
   ]
  },
  {
   "cell_type": "markdown",
   "metadata": {},
   "source": [
    "** Alpha, Text Based solution (the 1st general solution without the anomaly detector step) is deployed and exposed by POST API**\n",
    "\n",
    "To Use the API, send POST request with the payload {'review_text': text} to http://yousef.fadila.net/review-checker/"
   ]
  },
  {
   "cell_type": "code",
   "execution_count": 76,
   "metadata": {
    "collapsed": true
   },
   "outputs": [],
   "source": [
    "import requests\n",
    "\n",
    "def deceptive_checker_1(text):\n",
    "    url = 'http://yousef.fadila.net/review-checker/'\n",
    "    payload = {'review_text': text}\n",
    "    r = requests.post(url, data=payload)\n",
    "    return r.text"
   ]
  },
  {
   "cell_type": "markdown",
   "metadata": {},
   "source": [
    " <img src=\"shawarma.png\">\n",
    " "
   ]
  },
  {
   "cell_type": "markdown",
   "metadata": {},
   "source": [
    "** Test the first two reviews on https://www.yelp.com/biz/shawarma-palace-worcester?start=60 using the API ** "
   ]
  },
  {
   "cell_type": "code",
   "execution_count": 78,
   "metadata": {
    "collapsed": false
   },
   "outputs": [
    {
     "data": {
      "text/plain": [
       "'{\"result\": \"Likely Fake\" }'"
      ]
     },
     "execution_count": 78,
     "metadata": {},
     "output_type": "execute_result"
    }
   ],
   "source": [
    "review1='Best restaurant. Charlie is extremely nice and friendly. I recommend all the food, especially chicken  plate and sandwich. You wont get disappointed'\n",
    "deceptive_checker_1(review1)"
   ]
  },
  {
   "cell_type": "markdown",
   "metadata": {},
   "source": [
    "*------------------------\n",
    "\n",
    "### Problem 4: Prepare a 90 second Pitch and *present* it in the class (20 points)\n",
    "\n",
    "* Prepare the slide(s) for the Pitch (10 points)\n",
    "* Present it in the class (10 points).\n",
    "\n",
    "*Advice:  It should really only be one or two slides, but a really good one or two slides!  Also, it is ok to select one person on the team to give the 90 second pitch (though a very organized multi-person 90 second pitch can be very impressive!) *\n",
    "\n"
   ]
  },
  {
   "cell_type": "markdown",
   "metadata": {},
   "source": [
    "# Report: communicate the results (20 points)\n",
    "\n",
    "(1) (5 points) What is your business proposition?\n",
    "\n",
    "(2) (5 points) Why this topic is interesting or important to you? (Motivations)\n",
    "\n",
    "(3) (5 points) How did you analyse the data?\n",
    "\n",
    "(4) (5 points) How does your analysis support your business proposition?\n",
    "(please include figures or tables in the report, but no source code)"
   ]
  },
  {
   "cell_type": "markdown",
   "metadata": {},
   "source": [
    "# Slides (for 10 minutes of presentation) (20 points)\n",
    "\n",
    "\n",
    "1. (5 points) Motivation about the data collection, why the topic is interesting to you. \n",
    "\n",
    "2. (10 points) Communicating Results (figure/table)\n",
    "\n",
    "3. (5 points) Story telling (How all the parts (data, analysis, result) fit together as a story?)"
   ]
  },
  {
   "cell_type": "markdown",
   "metadata": {},
   "source": [
    "*-----------------\n",
    "# Done\n",
    "\n",
    "All set! \n",
    "\n",
    "** What do you need to submit?**\n",
    "\n",
    "* **Notebook File**: Save this IPython notebook, and find the notebook file in your folder (for example, \"filename.ipynb\"). This is the file you need to submit. Please make sure all the plotted tables and figures are in the notebook. If you used \"ipython notebook --pylab=inline\" to open the notebook, all the figures and tables should have shown up in the notebook.\n",
    "\n",
    "\n",
    "* **PPT Slides**: **NOTE, for this Case Study you need to prepare two (2) PPT files!**  One for the 90 second Pitch and one for a normal 10 minute presentation.\n",
    "\n",
    "* ** Report**: please prepare a report (less than 10 pages) to report what you found in the data.\n",
    "\n",
    "     (please include figures or tables in the report, **but no source code**)\n",
    "\n",
    "*Please compress all the files into a single zipped file.*\n",
    "\n",
    "\n",
    "** How to submit: **\n",
    "\n",
    "        Send an email to rcpaffenroth@wpi.edu and wliu3@wpi.edu with the subject: \"[DS501] Case study 4-TEAM NUMBER ???\"."
   ]
  },
  {
   "cell_type": "code",
   "execution_count": null,
   "metadata": {
    "collapsed": true
   },
   "outputs": [],
   "source": []
  },
  {
   "cell_type": "code",
   "execution_count": null,
   "metadata": {
    "collapsed": true
   },
   "outputs": [],
   "source": []
  }
 ],
 "metadata": {
  "anaconda-cloud": {},
  "kernelspec": {
   "display_name": "Python [Root]",
   "language": "python",
   "name": "Python [Root]"
  },
  "language_info": {
   "codemirror_mode": {
    "name": "ipython",
    "version": 3
   },
   "file_extension": ".py",
   "mimetype": "text/x-python",
   "name": "python",
   "nbconvert_exporter": "python",
   "pygments_lexer": "ipython3",
   "version": "3.5.2"
  }
 },
 "nbformat": 4,
 "nbformat_minor": 0
}
